{
  "nbformat": 4,
  "nbformat_minor": 0,
  "metadata": {
    "colab": {
      "provenance": [],
      "include_colab_link": true
    },
    "kernelspec": {
      "name": "python3",
      "display_name": "Python 3"
    },
    "language_info": {
      "name": "python"
    }
  },
  "cells": [
    {
      "cell_type": "markdown",
      "metadata": {
        "id": "view-in-github",
        "colab_type": "text"
      },
      "source": [
        "<a href=\"https://colab.research.google.com/github/Jayden-Nyamiaka/Machine-Learning-and-Data-Mining/blob/main/basic_visualizations.ipynb\" target=\"_parent\"><img src=\"https://colab.research.google.com/assets/colab-badge.svg\" alt=\"Open In Colab\"/></a>"
      ]
    },
    {
      "cell_type": "markdown",
      "source": [
        "# Basic Visualizations - CS 155 Project 2"
      ],
      "metadata": {
        "id": "4-KPEsNSPLyc"
      }
    },
    {
      "cell_type": "markdown",
      "source": [
        "# Imports"
      ],
      "metadata": {
        "id": "Lf5gJzUrPnhJ"
      }
    },
    {
      "cell_type": "code",
      "source": [
        "import numpy as np\n",
        "import matplotlib.pyplot as plt\n",
        "import pandas as pd"
      ],
      "metadata": {
        "id": "raSTGCyKPOjI"
      },
      "execution_count": null,
      "outputs": []
    },
    {
      "cell_type": "markdown",
      "source": [
        "# Load Data"
      ],
      "metadata": {
        "id": "0gTm-oUFPoh7"
      }
    },
    {
      "cell_type": "code",
      "source": [
        "data = pd.read_csv(\"https://raw.githubusercontent.com/emiletimothy/Caltech-CS155-2023/main/miniproject2/data/data.csv\")\n",
        "movies = pd.read_csv(\"https://raw.githubusercontent.com/emiletimothy/Caltech-CS155-2023/main/miniproject2/data/movies.csv\")\n",
        "\n",
        "USER_ID = data[\"User ID\"]\n",
        "MOVIE_ID = data[\"Movie ID\"]\n",
        "RATING = data[\"Rating\"]\n",
        "\n",
        "genres = list(movies.columns)[2:]\n",
        "movie_to_rating_count = MOVIE_ID.value_counts()\n",
        "movie_to_avg_rating = data[['Movie ID', 'Rating']].groupby(by='Movie ID').mean().sort_values(by=['Rating'], ascending=False)"
      ],
      "metadata": {
        "id": "_poduBwhPpv2"
      },
      "execution_count": null,
      "outputs": []
    },
    {
      "cell_type": "code",
      "source": [
        "display(data)"
      ],
      "metadata": {
        "colab": {
          "base_uri": "https://localhost:8080/",
          "height": 424
        },
        "id": "fhWFj0VGQmYE",
        "outputId": "1b1a0d43-1bf9-47bb-ba61-fbf2b5a86e6c"
      },
      "execution_count": null,
      "outputs": [
        {
          "output_type": "display_data",
          "data": {
            "text/plain": [
              "        User ID  Movie ID  Rating\n",
              "0             0        88     4.0\n",
              "1             0       545     3.5\n",
              "2             0         7     3.0\n",
              "3             0       401     4.0\n",
              "4             0      1230     0.5\n",
              "...         ...       ...     ...\n",
              "121496      991       681     1.0\n",
              "121497      991       736     3.5\n",
              "121498      991       162     3.0\n",
              "121499      991      1242     3.5\n",
              "121500      991       321     4.5\n",
              "\n",
              "[121501 rows x 3 columns]"
            ],
            "text/html": [
              "\n",
              "  <div id=\"df-5150eb95-856b-4d51-a046-5904f2704376\">\n",
              "    <div class=\"colab-df-container\">\n",
              "      <div>\n",
              "<style scoped>\n",
              "    .dataframe tbody tr th:only-of-type {\n",
              "        vertical-align: middle;\n",
              "    }\n",
              "\n",
              "    .dataframe tbody tr th {\n",
              "        vertical-align: top;\n",
              "    }\n",
              "\n",
              "    .dataframe thead th {\n",
              "        text-align: right;\n",
              "    }\n",
              "</style>\n",
              "<table border=\"1\" class=\"dataframe\">\n",
              "  <thead>\n",
              "    <tr style=\"text-align: right;\">\n",
              "      <th></th>\n",
              "      <th>User ID</th>\n",
              "      <th>Movie ID</th>\n",
              "      <th>Rating</th>\n",
              "    </tr>\n",
              "  </thead>\n",
              "  <tbody>\n",
              "    <tr>\n",
              "      <th>0</th>\n",
              "      <td>0</td>\n",
              "      <td>88</td>\n",
              "      <td>4.0</td>\n",
              "    </tr>\n",
              "    <tr>\n",
              "      <th>1</th>\n",
              "      <td>0</td>\n",
              "      <td>545</td>\n",
              "      <td>3.5</td>\n",
              "    </tr>\n",
              "    <tr>\n",
              "      <th>2</th>\n",
              "      <td>0</td>\n",
              "      <td>7</td>\n",
              "      <td>3.0</td>\n",
              "    </tr>\n",
              "    <tr>\n",
              "      <th>3</th>\n",
              "      <td>0</td>\n",
              "      <td>401</td>\n",
              "      <td>4.0</td>\n",
              "    </tr>\n",
              "    <tr>\n",
              "      <th>4</th>\n",
              "      <td>0</td>\n",
              "      <td>1230</td>\n",
              "      <td>0.5</td>\n",
              "    </tr>\n",
              "    <tr>\n",
              "      <th>...</th>\n",
              "      <td>...</td>\n",
              "      <td>...</td>\n",
              "      <td>...</td>\n",
              "    </tr>\n",
              "    <tr>\n",
              "      <th>121496</th>\n",
              "      <td>991</td>\n",
              "      <td>681</td>\n",
              "      <td>1.0</td>\n",
              "    </tr>\n",
              "    <tr>\n",
              "      <th>121497</th>\n",
              "      <td>991</td>\n",
              "      <td>736</td>\n",
              "      <td>3.5</td>\n",
              "    </tr>\n",
              "    <tr>\n",
              "      <th>121498</th>\n",
              "      <td>991</td>\n",
              "      <td>162</td>\n",
              "      <td>3.0</td>\n",
              "    </tr>\n",
              "    <tr>\n",
              "      <th>121499</th>\n",
              "      <td>991</td>\n",
              "      <td>1242</td>\n",
              "      <td>3.5</td>\n",
              "    </tr>\n",
              "    <tr>\n",
              "      <th>121500</th>\n",
              "      <td>991</td>\n",
              "      <td>321</td>\n",
              "      <td>4.5</td>\n",
              "    </tr>\n",
              "  </tbody>\n",
              "</table>\n",
              "<p>121501 rows × 3 columns</p>\n",
              "</div>\n",
              "      <button class=\"colab-df-convert\" onclick=\"convertToInteractive('df-5150eb95-856b-4d51-a046-5904f2704376')\"\n",
              "              title=\"Convert this dataframe to an interactive table.\"\n",
              "              style=\"display:none;\">\n",
              "        \n",
              "  <svg xmlns=\"http://www.w3.org/2000/svg\" height=\"24px\"viewBox=\"0 0 24 24\"\n",
              "       width=\"24px\">\n",
              "    <path d=\"M0 0h24v24H0V0z\" fill=\"none\"/>\n",
              "    <path d=\"M18.56 5.44l.94 2.06.94-2.06 2.06-.94-2.06-.94-.94-2.06-.94 2.06-2.06.94zm-11 1L8.5 8.5l.94-2.06 2.06-.94-2.06-.94L8.5 2.5l-.94 2.06-2.06.94zm10 10l.94 2.06.94-2.06 2.06-.94-2.06-.94-.94-2.06-.94 2.06-2.06.94z\"/><path d=\"M17.41 7.96l-1.37-1.37c-.4-.4-.92-.59-1.43-.59-.52 0-1.04.2-1.43.59L10.3 9.45l-7.72 7.72c-.78.78-.78 2.05 0 2.83L4 21.41c.39.39.9.59 1.41.59.51 0 1.02-.2 1.41-.59l7.78-7.78 2.81-2.81c.8-.78.8-2.07 0-2.86zM5.41 20L4 18.59l7.72-7.72 1.47 1.35L5.41 20z\"/>\n",
              "  </svg>\n",
              "      </button>\n",
              "      \n",
              "  <style>\n",
              "    .colab-df-container {\n",
              "      display:flex;\n",
              "      flex-wrap:wrap;\n",
              "      gap: 12px;\n",
              "    }\n",
              "\n",
              "    .colab-df-convert {\n",
              "      background-color: #E8F0FE;\n",
              "      border: none;\n",
              "      border-radius: 50%;\n",
              "      cursor: pointer;\n",
              "      display: none;\n",
              "      fill: #1967D2;\n",
              "      height: 32px;\n",
              "      padding: 0 0 0 0;\n",
              "      width: 32px;\n",
              "    }\n",
              "\n",
              "    .colab-df-convert:hover {\n",
              "      background-color: #E2EBFA;\n",
              "      box-shadow: 0px 1px 2px rgba(60, 64, 67, 0.3), 0px 1px 3px 1px rgba(60, 64, 67, 0.15);\n",
              "      fill: #174EA6;\n",
              "    }\n",
              "\n",
              "    [theme=dark] .colab-df-convert {\n",
              "      background-color: #3B4455;\n",
              "      fill: #D2E3FC;\n",
              "    }\n",
              "\n",
              "    [theme=dark] .colab-df-convert:hover {\n",
              "      background-color: #434B5C;\n",
              "      box-shadow: 0px 1px 3px 1px rgba(0, 0, 0, 0.15);\n",
              "      filter: drop-shadow(0px 1px 2px rgba(0, 0, 0, 0.3));\n",
              "      fill: #FFFFFF;\n",
              "    }\n",
              "  </style>\n",
              "\n",
              "      <script>\n",
              "        const buttonEl =\n",
              "          document.querySelector('#df-5150eb95-856b-4d51-a046-5904f2704376 button.colab-df-convert');\n",
              "        buttonEl.style.display =\n",
              "          google.colab.kernel.accessAllowed ? 'block' : 'none';\n",
              "\n",
              "        async function convertToInteractive(key) {\n",
              "          const element = document.querySelector('#df-5150eb95-856b-4d51-a046-5904f2704376');\n",
              "          const dataTable =\n",
              "            await google.colab.kernel.invokeFunction('convertToInteractive',\n",
              "                                                     [key], {});\n",
              "          if (!dataTable) return;\n",
              "\n",
              "          const docLinkHtml = 'Like what you see? Visit the ' +\n",
              "            '<a target=\"_blank\" href=https://colab.research.google.com/notebooks/data_table.ipynb>data table notebook</a>'\n",
              "            + ' to learn more about interactive tables.';\n",
              "          element.innerHTML = '';\n",
              "          dataTable['output_type'] = 'display_data';\n",
              "          await google.colab.output.renderOutput(dataTable, element);\n",
              "          const docLink = document.createElement('div');\n",
              "          docLink.innerHTML = docLinkHtml;\n",
              "          element.appendChild(docLink);\n",
              "        }\n",
              "      </script>\n",
              "    </div>\n",
              "  </div>\n",
              "  "
            ]
          },
          "metadata": {}
        }
      ]
    },
    {
      "cell_type": "code",
      "source": [
        "display(movies)"
      ],
      "metadata": {
        "colab": {
          "base_uri": "https://localhost:8080/",
          "height": 800
        },
        "id": "dabDDUvDQoOW",
        "outputId": "7bd4ce3d-b009-42e0-fedf-bf377f234d3d"
      },
      "execution_count": null,
      "outputs": [
        {
          "output_type": "display_data",
          "data": {
            "text/plain": [
              "      Movie ID                     Movie Title  Unknown  Action  Adventure  \\\n",
              "0            0     (500) Days of Summer (2009)        0       0          0   \n",
              "1            1      10 Cloverfield Lane (2016)        0       0          0   \n",
              "2            2                10,000 BC (2008)        0       0          1   \n",
              "3            3         12 Years a Slave (2013)        0       0          0   \n",
              "4            4                127 Hours (2010)        0       0          1   \n",
              "...        ...                             ...      ...     ...        ...   \n",
              "1495      1495                Zoolander (2001)        0       0          0   \n",
              "1496      1496                 Zootopia (2016)        0       1          1   \n",
              "1497      1497                    [REC] (2007)        0       0          0   \n",
              "1498      1498                      xXx (2002)        0       1          0   \n",
              "1499      1499  xXx: State of the Union (2005)        0       1          0   \n",
              "\n",
              "      Animation  Children  Comedy  Crime  Documentary  ...  Fantasy  \\\n",
              "0             0         0       1      0            0  ...        0   \n",
              "1             0         0       0      0            0  ...        0   \n",
              "2             0         0       0      0            0  ...        0   \n",
              "3             0         0       0      0            0  ...        0   \n",
              "4             0         0       0      0            0  ...        0   \n",
              "...         ...       ...     ...    ...          ...  ...      ...   \n",
              "1495          0         0       1      0            0  ...        0   \n",
              "1496          1         1       1      0            0  ...        0   \n",
              "1497          0         0       0      0            0  ...        0   \n",
              "1498          0         0       0      1            0  ...        0   \n",
              "1499          0         0       0      1            0  ...        0   \n",
              "\n",
              "      Film-Noir  Horror  Musical  Mystery  Romance  Sci-Fi  Thriller  War  \\\n",
              "0             0       0        0        0        1       0         0    0   \n",
              "1             0       0        0        0        0       0         1    0   \n",
              "2             0       0        0        0        1       0         1    0   \n",
              "3             0       0        0        0        0       0         0    0   \n",
              "4             0       0        0        0        0       0         1    0   \n",
              "...         ...     ...      ...      ...      ...     ...       ...  ...   \n",
              "1495          0       0        0        0        0       0         0    0   \n",
              "1496          0       0        0        0        0       0         0    0   \n",
              "1497          0       1        0        0        0       0         1    0   \n",
              "1498          0       0        0        0        0       0         1    0   \n",
              "1499          0       0        0        0        0       0         1    0   \n",
              "\n",
              "      Western  \n",
              "0           0  \n",
              "1           0  \n",
              "2           0  \n",
              "3           0  \n",
              "4           0  \n",
              "...       ...  \n",
              "1495        0  \n",
              "1496        0  \n",
              "1497        0  \n",
              "1498        0  \n",
              "1499        0  \n",
              "\n",
              "[1500 rows x 21 columns]"
            ],
            "text/html": [
              "\n",
              "  <div id=\"df-ccaefcfb-3edd-4f27-a9b6-4ed4c77f3598\">\n",
              "    <div class=\"colab-df-container\">\n",
              "      <div>\n",
              "<style scoped>\n",
              "    .dataframe tbody tr th:only-of-type {\n",
              "        vertical-align: middle;\n",
              "    }\n",
              "\n",
              "    .dataframe tbody tr th {\n",
              "        vertical-align: top;\n",
              "    }\n",
              "\n",
              "    .dataframe thead th {\n",
              "        text-align: right;\n",
              "    }\n",
              "</style>\n",
              "<table border=\"1\" class=\"dataframe\">\n",
              "  <thead>\n",
              "    <tr style=\"text-align: right;\">\n",
              "      <th></th>\n",
              "      <th>Movie ID</th>\n",
              "      <th>Movie Title</th>\n",
              "      <th>Unknown</th>\n",
              "      <th>Action</th>\n",
              "      <th>Adventure</th>\n",
              "      <th>Animation</th>\n",
              "      <th>Children</th>\n",
              "      <th>Comedy</th>\n",
              "      <th>Crime</th>\n",
              "      <th>Documentary</th>\n",
              "      <th>...</th>\n",
              "      <th>Fantasy</th>\n",
              "      <th>Film-Noir</th>\n",
              "      <th>Horror</th>\n",
              "      <th>Musical</th>\n",
              "      <th>Mystery</th>\n",
              "      <th>Romance</th>\n",
              "      <th>Sci-Fi</th>\n",
              "      <th>Thriller</th>\n",
              "      <th>War</th>\n",
              "      <th>Western</th>\n",
              "    </tr>\n",
              "  </thead>\n",
              "  <tbody>\n",
              "    <tr>\n",
              "      <th>0</th>\n",
              "      <td>0</td>\n",
              "      <td>(500) Days of Summer (2009)</td>\n",
              "      <td>0</td>\n",
              "      <td>0</td>\n",
              "      <td>0</td>\n",
              "      <td>0</td>\n",
              "      <td>0</td>\n",
              "      <td>1</td>\n",
              "      <td>0</td>\n",
              "      <td>0</td>\n",
              "      <td>...</td>\n",
              "      <td>0</td>\n",
              "      <td>0</td>\n",
              "      <td>0</td>\n",
              "      <td>0</td>\n",
              "      <td>0</td>\n",
              "      <td>1</td>\n",
              "      <td>0</td>\n",
              "      <td>0</td>\n",
              "      <td>0</td>\n",
              "      <td>0</td>\n",
              "    </tr>\n",
              "    <tr>\n",
              "      <th>1</th>\n",
              "      <td>1</td>\n",
              "      <td>10 Cloverfield Lane (2016)</td>\n",
              "      <td>0</td>\n",
              "      <td>0</td>\n",
              "      <td>0</td>\n",
              "      <td>0</td>\n",
              "      <td>0</td>\n",
              "      <td>0</td>\n",
              "      <td>0</td>\n",
              "      <td>0</td>\n",
              "      <td>...</td>\n",
              "      <td>0</td>\n",
              "      <td>0</td>\n",
              "      <td>0</td>\n",
              "      <td>0</td>\n",
              "      <td>0</td>\n",
              "      <td>0</td>\n",
              "      <td>0</td>\n",
              "      <td>1</td>\n",
              "      <td>0</td>\n",
              "      <td>0</td>\n",
              "    </tr>\n",
              "    <tr>\n",
              "      <th>2</th>\n",
              "      <td>2</td>\n",
              "      <td>10,000 BC (2008)</td>\n",
              "      <td>0</td>\n",
              "      <td>0</td>\n",
              "      <td>1</td>\n",
              "      <td>0</td>\n",
              "      <td>0</td>\n",
              "      <td>0</td>\n",
              "      <td>0</td>\n",
              "      <td>0</td>\n",
              "      <td>...</td>\n",
              "      <td>0</td>\n",
              "      <td>0</td>\n",
              "      <td>0</td>\n",
              "      <td>0</td>\n",
              "      <td>0</td>\n",
              "      <td>1</td>\n",
              "      <td>0</td>\n",
              "      <td>1</td>\n",
              "      <td>0</td>\n",
              "      <td>0</td>\n",
              "    </tr>\n",
              "    <tr>\n",
              "      <th>3</th>\n",
              "      <td>3</td>\n",
              "      <td>12 Years a Slave (2013)</td>\n",
              "      <td>0</td>\n",
              "      <td>0</td>\n",
              "      <td>0</td>\n",
              "      <td>0</td>\n",
              "      <td>0</td>\n",
              "      <td>0</td>\n",
              "      <td>0</td>\n",
              "      <td>0</td>\n",
              "      <td>...</td>\n",
              "      <td>0</td>\n",
              "      <td>0</td>\n",
              "      <td>0</td>\n",
              "      <td>0</td>\n",
              "      <td>0</td>\n",
              "      <td>0</td>\n",
              "      <td>0</td>\n",
              "      <td>0</td>\n",
              "      <td>0</td>\n",
              "      <td>0</td>\n",
              "    </tr>\n",
              "    <tr>\n",
              "      <th>4</th>\n",
              "      <td>4</td>\n",
              "      <td>127 Hours (2010)</td>\n",
              "      <td>0</td>\n",
              "      <td>0</td>\n",
              "      <td>1</td>\n",
              "      <td>0</td>\n",
              "      <td>0</td>\n",
              "      <td>0</td>\n",
              "      <td>0</td>\n",
              "      <td>0</td>\n",
              "      <td>...</td>\n",
              "      <td>0</td>\n",
              "      <td>0</td>\n",
              "      <td>0</td>\n",
              "      <td>0</td>\n",
              "      <td>0</td>\n",
              "      <td>0</td>\n",
              "      <td>0</td>\n",
              "      <td>1</td>\n",
              "      <td>0</td>\n",
              "      <td>0</td>\n",
              "    </tr>\n",
              "    <tr>\n",
              "      <th>...</th>\n",
              "      <td>...</td>\n",
              "      <td>...</td>\n",
              "      <td>...</td>\n",
              "      <td>...</td>\n",
              "      <td>...</td>\n",
              "      <td>...</td>\n",
              "      <td>...</td>\n",
              "      <td>...</td>\n",
              "      <td>...</td>\n",
              "      <td>...</td>\n",
              "      <td>...</td>\n",
              "      <td>...</td>\n",
              "      <td>...</td>\n",
              "      <td>...</td>\n",
              "      <td>...</td>\n",
              "      <td>...</td>\n",
              "      <td>...</td>\n",
              "      <td>...</td>\n",
              "      <td>...</td>\n",
              "      <td>...</td>\n",
              "      <td>...</td>\n",
              "    </tr>\n",
              "    <tr>\n",
              "      <th>1495</th>\n",
              "      <td>1495</td>\n",
              "      <td>Zoolander (2001)</td>\n",
              "      <td>0</td>\n",
              "      <td>0</td>\n",
              "      <td>0</td>\n",
              "      <td>0</td>\n",
              "      <td>0</td>\n",
              "      <td>1</td>\n",
              "      <td>0</td>\n",
              "      <td>0</td>\n",
              "      <td>...</td>\n",
              "      <td>0</td>\n",
              "      <td>0</td>\n",
              "      <td>0</td>\n",
              "      <td>0</td>\n",
              "      <td>0</td>\n",
              "      <td>0</td>\n",
              "      <td>0</td>\n",
              "      <td>0</td>\n",
              "      <td>0</td>\n",
              "      <td>0</td>\n",
              "    </tr>\n",
              "    <tr>\n",
              "      <th>1496</th>\n",
              "      <td>1496</td>\n",
              "      <td>Zootopia (2016)</td>\n",
              "      <td>0</td>\n",
              "      <td>1</td>\n",
              "      <td>1</td>\n",
              "      <td>1</td>\n",
              "      <td>1</td>\n",
              "      <td>1</td>\n",
              "      <td>0</td>\n",
              "      <td>0</td>\n",
              "      <td>...</td>\n",
              "      <td>0</td>\n",
              "      <td>0</td>\n",
              "      <td>0</td>\n",
              "      <td>0</td>\n",
              "      <td>0</td>\n",
              "      <td>0</td>\n",
              "      <td>0</td>\n",
              "      <td>0</td>\n",
              "      <td>0</td>\n",
              "      <td>0</td>\n",
              "    </tr>\n",
              "    <tr>\n",
              "      <th>1497</th>\n",
              "      <td>1497</td>\n",
              "      <td>[REC] (2007)</td>\n",
              "      <td>0</td>\n",
              "      <td>0</td>\n",
              "      <td>0</td>\n",
              "      <td>0</td>\n",
              "      <td>0</td>\n",
              "      <td>0</td>\n",
              "      <td>0</td>\n",
              "      <td>0</td>\n",
              "      <td>...</td>\n",
              "      <td>0</td>\n",
              "      <td>0</td>\n",
              "      <td>1</td>\n",
              "      <td>0</td>\n",
              "      <td>0</td>\n",
              "      <td>0</td>\n",
              "      <td>0</td>\n",
              "      <td>1</td>\n",
              "      <td>0</td>\n",
              "      <td>0</td>\n",
              "    </tr>\n",
              "    <tr>\n",
              "      <th>1498</th>\n",
              "      <td>1498</td>\n",
              "      <td>xXx (2002)</td>\n",
              "      <td>0</td>\n",
              "      <td>1</td>\n",
              "      <td>0</td>\n",
              "      <td>0</td>\n",
              "      <td>0</td>\n",
              "      <td>0</td>\n",
              "      <td>1</td>\n",
              "      <td>0</td>\n",
              "      <td>...</td>\n",
              "      <td>0</td>\n",
              "      <td>0</td>\n",
              "      <td>0</td>\n",
              "      <td>0</td>\n",
              "      <td>0</td>\n",
              "      <td>0</td>\n",
              "      <td>0</td>\n",
              "      <td>1</td>\n",
              "      <td>0</td>\n",
              "      <td>0</td>\n",
              "    </tr>\n",
              "    <tr>\n",
              "      <th>1499</th>\n",
              "      <td>1499</td>\n",
              "      <td>xXx: State of the Union (2005)</td>\n",
              "      <td>0</td>\n",
              "      <td>1</td>\n",
              "      <td>0</td>\n",
              "      <td>0</td>\n",
              "      <td>0</td>\n",
              "      <td>0</td>\n",
              "      <td>1</td>\n",
              "      <td>0</td>\n",
              "      <td>...</td>\n",
              "      <td>0</td>\n",
              "      <td>0</td>\n",
              "      <td>0</td>\n",
              "      <td>0</td>\n",
              "      <td>0</td>\n",
              "      <td>0</td>\n",
              "      <td>0</td>\n",
              "      <td>1</td>\n",
              "      <td>0</td>\n",
              "      <td>0</td>\n",
              "    </tr>\n",
              "  </tbody>\n",
              "</table>\n",
              "<p>1500 rows × 21 columns</p>\n",
              "</div>\n",
              "      <button class=\"colab-df-convert\" onclick=\"convertToInteractive('df-ccaefcfb-3edd-4f27-a9b6-4ed4c77f3598')\"\n",
              "              title=\"Convert this dataframe to an interactive table.\"\n",
              "              style=\"display:none;\">\n",
              "        \n",
              "  <svg xmlns=\"http://www.w3.org/2000/svg\" height=\"24px\"viewBox=\"0 0 24 24\"\n",
              "       width=\"24px\">\n",
              "    <path d=\"M0 0h24v24H0V0z\" fill=\"none\"/>\n",
              "    <path d=\"M18.56 5.44l.94 2.06.94-2.06 2.06-.94-2.06-.94-.94-2.06-.94 2.06-2.06.94zm-11 1L8.5 8.5l.94-2.06 2.06-.94-2.06-.94L8.5 2.5l-.94 2.06-2.06.94zm10 10l.94 2.06.94-2.06 2.06-.94-2.06-.94-.94-2.06-.94 2.06-2.06.94z\"/><path d=\"M17.41 7.96l-1.37-1.37c-.4-.4-.92-.59-1.43-.59-.52 0-1.04.2-1.43.59L10.3 9.45l-7.72 7.72c-.78.78-.78 2.05 0 2.83L4 21.41c.39.39.9.59 1.41.59.51 0 1.02-.2 1.41-.59l7.78-7.78 2.81-2.81c.8-.78.8-2.07 0-2.86zM5.41 20L4 18.59l7.72-7.72 1.47 1.35L5.41 20z\"/>\n",
              "  </svg>\n",
              "      </button>\n",
              "      \n",
              "  <style>\n",
              "    .colab-df-container {\n",
              "      display:flex;\n",
              "      flex-wrap:wrap;\n",
              "      gap: 12px;\n",
              "    }\n",
              "\n",
              "    .colab-df-convert {\n",
              "      background-color: #E8F0FE;\n",
              "      border: none;\n",
              "      border-radius: 50%;\n",
              "      cursor: pointer;\n",
              "      display: none;\n",
              "      fill: #1967D2;\n",
              "      height: 32px;\n",
              "      padding: 0 0 0 0;\n",
              "      width: 32px;\n",
              "    }\n",
              "\n",
              "    .colab-df-convert:hover {\n",
              "      background-color: #E2EBFA;\n",
              "      box-shadow: 0px 1px 2px rgba(60, 64, 67, 0.3), 0px 1px 3px 1px rgba(60, 64, 67, 0.15);\n",
              "      fill: #174EA6;\n",
              "    }\n",
              "\n",
              "    [theme=dark] .colab-df-convert {\n",
              "      background-color: #3B4455;\n",
              "      fill: #D2E3FC;\n",
              "    }\n",
              "\n",
              "    [theme=dark] .colab-df-convert:hover {\n",
              "      background-color: #434B5C;\n",
              "      box-shadow: 0px 1px 3px 1px rgba(0, 0, 0, 0.15);\n",
              "      filter: drop-shadow(0px 1px 2px rgba(0, 0, 0, 0.3));\n",
              "      fill: #FFFFFF;\n",
              "    }\n",
              "  </style>\n",
              "\n",
              "      <script>\n",
              "        const buttonEl =\n",
              "          document.querySelector('#df-ccaefcfb-3edd-4f27-a9b6-4ed4c77f3598 button.colab-df-convert');\n",
              "        buttonEl.style.display =\n",
              "          google.colab.kernel.accessAllowed ? 'block' : 'none';\n",
              "\n",
              "        async function convertToInteractive(key) {\n",
              "          const element = document.querySelector('#df-ccaefcfb-3edd-4f27-a9b6-4ed4c77f3598');\n",
              "          const dataTable =\n",
              "            await google.colab.kernel.invokeFunction('convertToInteractive',\n",
              "                                                     [key], {});\n",
              "          if (!dataTable) return;\n",
              "\n",
              "          const docLinkHtml = 'Like what you see? Visit the ' +\n",
              "            '<a target=\"_blank\" href=https://colab.research.google.com/notebooks/data_table.ipynb>data table notebook</a>'\n",
              "            + ' to learn more about interactive tables.';\n",
              "          element.innerHTML = '';\n",
              "          dataTable['output_type'] = 'display_data';\n",
              "          await google.colab.output.renderOutput(dataTable, element);\n",
              "          const docLink = document.createElement('div');\n",
              "          docLink.innerHTML = docLinkHtml;\n",
              "          element.appendChild(docLink);\n",
              "        }\n",
              "      </script>\n",
              "    </div>\n",
              "  </div>\n",
              "  "
            ]
          },
          "metadata": {}
        }
      ]
    },
    {
      "cell_type": "markdown",
      "source": [
        "# Basic Visualizations"
      ],
      "metadata": {
        "id": "qEG_zD-EzpZS"
      }
    },
    {
      "cell_type": "markdown",
      "source": [
        "Basic Visualization 1: All ratings in the MovieLens Dataset"
      ],
      "metadata": {
        "id": "TvIlk3PRdXvP"
      }
    },
    {
      "cell_type": "code",
      "source": [
        "# Basic Visualization 1\n",
        "\n",
        "# All ratings in MovieLens Dataset\n",
        "plt.figure()\n",
        "plt.hist(RATING,bins=[1,2,3,4,5,6],histtype='bar',rwidth=.9,align='left')\n",
        "plt.xlabel('Movie Rating')\n",
        "plt.ylabel(\"Number of Ratings\")\n",
        "plt.title(\"All Movie Ratings\")\n",
        "plt.savefig(\"Bar Chart of All Ratings\")\n",
        "plt.show()"
      ],
      "metadata": {
        "colab": {
          "base_uri": "https://localhost:8080/",
          "height": 295
        },
        "id": "OG7TvQkyzd_z",
        "outputId": "9b7a1d80-bc32-4ae2-eef4-758a7d1c019f"
      },
      "execution_count": null,
      "outputs": [
        {
          "output_type": "display_data",
          "data": {
            "text/plain": [
              "<Figure size 432x288 with 1 Axes>"
            ],
            "image/png": "[encoded data removed]"
          },
          "metadata": {
            "needs_background": "light"
          }
        }
      ]
    },
    {
      "cell_type": "markdown",
      "source": [
        "Basic Visualization 2: All ratings of the ten most popular movies"
      ],
      "metadata": {
        "id": "9w40O9jBdkjw"
      }
    },
    {
      "cell_type": "code",
      "source": [
        "# Basic Visualization 2\n",
        "\n",
        "# All rating of the ten most popular movies (movies which have received the most ratings)\n",
        "top10pop_ids = movie_to_rating_count.nlargest(10).index \n",
        "top10pop_ratings = data[data['Movie ID'].isin(top10pop_ids)]['Rating']\n",
        "\n",
        "plt.figure()\n",
        "plt.hist(top10pop_ratings,bins=[1,2,3,4,5,6],histtype='bar',rwidth=.9,align='left')\n",
        "plt.xlabel('Movie Rating')\n",
        "plt.ylabel(\"Number of Ratings\")\n",
        "plt.title(\"Ratings for Top 10 Most Rated Movies\")\n",
        "plt.savefig(\"Bar Chart of Top 10 Most Popular Movies Ratings\")\n",
        "plt.show()\n",
        "\n",
        "top10pop_avg_ratings = [round(movie_to_avg_rating.loc[pop_id].at[\"Rating\"], 4) for pop_id in top10pop_ids]\n",
        "print(\"Average ratings for the top 10 most popular movies:\")\n",
        "print(top10pop_avg_ratings)\n",
        "print(\"The top 10 most popular movies all have average ratings between 3.7 and 4.1\")"
      ],
      "metadata": {
        "colab": {
          "base_uri": "https://localhost:8080/",
          "height": 349
        },
        "id": "sHFjsM42z58H",
        "outputId": "d96c1b7f-b605-4d39-b369-31bea9b510c9"
      },
      "execution_count": null,
      "outputs": [
        {
          "output_type": "display_data",
          "data": {
            "text/plain": [
              "<Figure size 432x288 with 1 Axes>"
            ],
            "image/png": "[encoded data removed]"
          },
          "metadata": {
            "needs_background": "light"
          }
        },
        {
          "output_type": "stream",
          "name": "stdout",
          "text": [
            "Average ratings for the top 10 most popular movies:\n",
            "[4.0328, 4.0224, 4.0587, 3.7467, 3.7974, 4.0971, 3.875, 3.8346, 3.9066, 3.7882]\n",
            "The top 10 most popular movies all have average ratings between 3.7 and 4.1\n"
          ]
        }
      ]
    },
    {
      "cell_type": "markdown",
      "source": [
        "Basic Visualization 3: All ratings of the ten best movies"
      ],
      "metadata": {
        "id": "f3TTm0ZUdvxD"
      }
    },
    {
      "cell_type": "code",
      "source": [
        "# Basic Visualization 3\n",
        "\n",
        "# All ratings of the ten best movies (movies with the highest average ratings)\n",
        "top10best_ids = data[['Movie ID', 'Rating']].groupby(by='Movie ID').mean().sort_values(by=['Rating'], ascending=False).nlargest(10, \"Rating\").index\n",
        "top10best_ratings = data[data['Movie ID'].isin(top10best_ids)]['Rating']\n",
        "\n",
        "plt.figure()\n",
        "plt.hist(top10best_ratings,bins=[1,2,3,4,5,6],histtype='bar',rwidth=.9,align='left')\n",
        "plt.xlabel('Movie Rating')\n",
        "plt.ylabel(\"Number of Ratings\")\n",
        "plt.title(\"Ratings for Top 10 Best Rated Movies\")\n",
        "plt.savefig(\"Bar Chart of Top 10 Best Rated Movies Ratings\")\n",
        "plt.show()\n",
        "\n",
        "top10best_avg_ratings = [round(movie_to_avg_rating.loc[best_id].at[\"Rating\"], 4) for best_id in top10best_ids]\n",
        "print(\"Average ratings for the top 10 best (highly rated) movies:\")\n",
        "print(top10best_avg_ratings)\n",
        "print(\"The top 10 best (highly rated) movies all have average ratings between 4.1 and 4.5\")"
      ],
      "metadata": {
        "colab": {
          "base_uri": "https://localhost:8080/",
          "height": 349
        },
        "id": "JQQfWAoq0eug",
        "outputId": "d4bf1cb5-0923-4d65-be7a-6037f8730c65"
      },
      "execution_count": null,
      "outputs": [
        {
          "output_type": "display_data",
          "data": {
            "text/plain": [
              "<Figure size 432x288 with 1 Axes>"
            ],
            "image/png": "[encoded data removed]"
          },
          "metadata": {
            "needs_background": "light"
          }
        },
        {
          "output_type": "stream",
          "name": "stdout",
          "text": [
            "Average ratings for the top 10 best (highly rated) movies:\n",
            "[4.4677, 4.4545, 4.3, 4.275, 4.2647, 4.2586, 4.2419, 4.2015, 4.1875, 4.1765]\n",
            "The top 10 best (highly rated) movies all have average ratings between 4.1 and 4.5\n"
          ]
        }
      ]
    },
    {
      "cell_type": "markdown",
      "source": [
        "Basic Visualization 4: All ratings of movies from three genres of your choice"
      ],
      "metadata": {
        "id": "-0RK4n1-y7X5"
      }
    },
    {
      "cell_type": "code",
      "source": [
        "# Basic Visualization 4\n",
        "\n",
        "# All ratings of movies from three genres of your choice (three separate visualizations)\n",
        "comedy_movies = movies[movies['Comedy']==1]['Movie ID'] \n",
        "comedy_ratings = data[data['Movie ID'].isin(comedy_movies)]['Rating']\n",
        "\n",
        "horror_movies = movies[movies['Horror']==1]['Movie ID']\n",
        "horror_ratings = data[data['Movie ID'].isin(horror_movies)]['Rating']\n",
        "\n",
        "scifi_movies = movies[movies['Sci-Fi']==1]['Movie ID']\n",
        "scifi_ratings = data[data['Movie ID'].isin(scifi_movies)]['Rating']\n",
        "\n",
        "plt.figure(figsize=(20,5))\n",
        "plt.subplot(1,3,1)\n",
        "plt.hist(comedy_ratings,bins=[1,2,3,4,5,6],histtype='bar',rwidth=.9,align='left')\n",
        "plt.xlabel('Movie Rating')\n",
        "plt.ylabel(\"Number of Ratings\")\n",
        "plt.title(\"Ratings for Comedy Genre\")\n",
        "\n",
        "plt.subplot(1,3,2)\n",
        "plt.hist(horror_ratings,bins=[1,2,3,4,5,6],histtype='bar',rwidth=.9,align='left')\n",
        "plt.xlabel('Movie Rating')\n",
        "plt.ylabel(\"Number of Ratings\")\n",
        "plt.title(\"Ratings for Horror Genre\")\n",
        "\n",
        "plt.subplot(1,3,3)\n",
        "plt.hist(scifi_ratings,bins=[1,2,3,4,5,6],histtype='bar',rwidth=.9,align='left')\n",
        "plt.xlabel('Movie Rating')\n",
        "plt.ylabel(\"Number of Ratings\")\n",
        "plt.title(\"Ratings for Sci-Fi Genre\")\n",
        "plt.savefig(\"Bar Charts of Ratings by Genre\")\n",
        "plt.show()"
      ],
      "metadata": {
        "colab": {
          "base_uri": "https://localhost:8080/",
          "height": 322
        },
        "id": "e_yOgiTv48k7",
        "outputId": "6c932da7-1106-4336-a339-39505f44ab49"
      },
      "execution_count": null,
      "outputs": [
        {
          "output_type": "display_data",
          "data": {
            "text/plain": [
              "<Figure size 1440x360 with 3 Axes>"
            ],
            "image/png": "[encoded data removed]"
          },
          "metadata": {
            "needs_background": "light"
          }
        }
      ]
    },
    {
      "cell_type": "markdown",
      "source": [
        "# Extra Visualizations"
      ],
      "metadata": {
        "id": "ScIUIyc9HOIQ"
      }
    },
    {
      "cell_type": "markdown",
      "source": [
        "Extra Visualization 1: Percent of Movies by Genre"
      ],
      "metadata": {
        "id": "bh1V8MugHQuD"
      }
    },
    {
      "cell_type": "code",
      "source": [
        "# Extra Visualization: Percent of Movies by Genre\n",
        "total_movies = len(movies)\n",
        "movies_by_genre = [round(100.0 * movies[genre].value_counts()[1] / total_movies, 1) for genre in genres]\n",
        "\n",
        "plt.rcdefaults()\n",
        "fig = plt.figure()\n",
        "ax = fig.add_axes([0,0,1,1])\n",
        "ax.barh(genres, movies_by_genre)\n",
        "plt.xlim(0, 50)\n",
        "ax.invert_yaxis()\n",
        "for i, v in enumerate(movies_by_genre):\n",
        "    ax.text(v + 0.25, i + .15, str(v) + \"%\", color = 'red', fontweight = 'bold')\n",
        "plt.xlabel(\"Percent of Movies\")\n",
        "plt.ylabel('Genre')\n",
        "plt.title(\"Percent of Movies by Genre\")\n",
        "plt.show()"
      ],
      "metadata": {
        "colab": {
          "base_uri": "https://localhost:8080/",
          "height": 582
        },
        "id": "Sne96kS2zfYL",
        "outputId": "2cb695c1-3d0a-4c2a-abcb-d60be5b6221c"
      },
      "execution_count": null,
      "outputs": [
        {
          "output_type": "display_data",
          "data": {
            "text/plain": [
              "<Figure size 640x480 with 1 Axes>"
            ],
            "image/png": "[encoded data removed]"
          },
          "metadata": {}
        }
      ]
    },
    {
      "cell_type": "markdown",
      "source": [
        "Extra Visualization 2: Percent of Ratings by Genre"
      ],
      "metadata": {
        "id": "Gy6Xbd1aHVLA"
      }
    },
    {
      "cell_type": "code",
      "source": [
        "# Extra Visualization 2: Percent of Ratings by Genre\n",
        "def movie_id_to_movie_info(id):\n",
        "  return movies.loc[id]\n",
        "\n",
        "total_ratings = len(MOVIE_ID)\n",
        "print(total_ratings)\n",
        "rated_movies = MOVIE_ID.apply(movie_id_to_movie_info)\n",
        "ratings_by_genre = [round(100.0 * rated_movies[genre].value_counts()[1] / total_ratings, 1) for genre in genres]\n",
        "\n",
        "plt.rcdefaults()\n",
        "fig = plt.figure()\n",
        "ax = fig.add_axes([0,0,1,1])\n",
        "ax.barh(genres, ratings_by_genre)\n",
        "plt.xlim(0, 50)\n",
        "ax.invert_yaxis()\n",
        "for i, v in enumerate(ratings_by_genre):\n",
        "    ax.text(v + 0.25, i + .15, str(v) + \"%\", color = 'red', fontweight = 'bold')\n",
        "plt.xlabel(\"Percent of Ratings\")\n",
        "plt.ylabel('Genre')\n",
        "plt.title(\"Ratings by Genre\")\n",
        "plt.show()"
      ],
      "metadata": {
        "id": "wkMuVSHv9Whh",
        "colab": {
          "base_uri": "https://localhost:8080/",
          "height": 600
        },
        "outputId": "ba338dd7-9fec-4aa0-e93e-2b559c232dbe"
      },
      "execution_count": null,
      "outputs": [
        {
          "output_type": "stream",
          "name": "stdout",
          "text": [
            "121501\n"
          ]
        },
        {
          "output_type": "display_data",
          "data": {
            "text/plain": [
              "<Figure size 640x480 with 1 Axes>"
            ],
            "image/png": "[encoded data removed]"
          },
          "metadata": {}
        }
      ]
    },
    {
      "cell_type": "markdown",
      "source": [
        "## Extra Visualization Takeaways\n",
        "\n",
        "We plotted the percent of movies and ratings by genre to see if the movies of any genre we're getting a disproproportionate amount of ratings, which could have led to potential bias in our model. \n",
        "\n",
        "From the plots, we can see that the percent of movies by genre is about proportionate to the number of ratings those movies recieved. Obviously, it's not perfect as we have some genres getting disproportionally more ratings (i.e Action, Adventure, and SciFi) and other genres that have disproportionally less ratings (i.e Comedy, Drama, and Horror), but for the most part, the ratings are about proportionally distributed throughout genres (< 10% discrepancy for all genres). With this, we can be pretty confident that our model won't suffer from bias due to an imbalance in our data."
      ],
      "metadata": {
        "id": "g2dCIPlz6mZr"
      }
    }
  ]
}