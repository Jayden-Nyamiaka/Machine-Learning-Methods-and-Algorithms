{
  "nbformat": 4,
  "nbformat_minor": 0,
  "metadata": {
    "colab": {
      "provenance": [],
      "include_colab_link": true
    },
    "kernelspec": {
      "name": "python3",
      "display_name": "Python 3"
    },
    "language_info": {
      "name": "python"
    }
  },
  "cells": [
    {
      "cell_type": "markdown",
      "metadata": {
        "id": "view-in-github",
        "colab_type": "text"
      },
      "source": [
        "<a href=\"https://colab.research.google.com/github/Jayden-Nyamiaka/Machine-Learning-and-Data-Mining/blob/main/nyamiaka_jayden_3_notebook_part2.ipynb\" target=\"_parent\"><img src=\"https://colab.research.google.com/assets/colab-badge.svg\" alt=\"Open In Colab\"/></a>"
      ]
    },
    {
      "cell_type": "markdown",
      "source": [
        "# **Problem 3, Parts G-I: Stochastic Gradient Descent with a Larger Dataset**\n",
        "\n",
        "Use this notebook to write your code for problem 3 parts G-I by filling in the sections marked `# TODO` and running all cells.\n"
      ],
      "metadata": {
        "id": "UlFvO4gLocHN"
      }
    },
    {
      "cell_type": "code",
      "execution_count": null,
      "metadata": {
        "id": "fRpytxLvoImb"
      },
      "outputs": [],
      "source": [
        "# Setup.\n",
        "\n",
        "import numpy as np\n",
        "import matplotlib.pyplot as plt\n",
        "import math\n",
        "\n",
        "%matplotlib inline"
      ]
    },
    {
      "cell_type": "markdown",
      "source": [
        "## Problem 3G: Perform SGD with the new dataset\n",
        "\n",
        "For the functions below, you may re-use your code from parts 3D-F. Note that you can now modify your SGD function to return the final weight vector instead of the weights after every epoch.\n",
        "\n"
      ],
      "metadata": {
        "id": "cWwb2t6Wo0iL"
      }
    },
    {
      "cell_type": "code",
      "source": [
        "'''\n",
        "Calculate the squared loss function.\n",
        "\n",
        "Inputs:\n",
        "    X: A (N, D) shaped numpy array containing the data points.\n",
        "    Y: A (N, ) shaped numpy array containing the (float) labels of the data points.\n",
        "    w: A (D, ) shaped numpy array containing the weight vector.\n",
        "\n",
        "Outputs:\n",
        "    The loss evaluated with respect to X, Y, and w.\n",
        "'''\n",
        "def loss(X, Y, w):\n",
        "  total = 0\n",
        "  for i in range(Y.size):\n",
        "    predict_i = w.dot(X[i])\n",
        "    error = (predict_i - Y[i]) ** 2\n",
        "    total += error\n",
        "  return total\n",
        "\n",
        "\n",
        "'''\n",
        "Calculate the gradient of the loss function with respect to the weight vector w,\n",
        "evaluated at a single point (x, y) and weight vector w.\n",
        "\n",
        "Inputs:\n",
        "    x: A (D, ) shaped numpy array containing a single data point.\n",
        "    y: The float label for the data point.\n",
        "    w: A (D, ) shaped numpy array containing the weight vector.\n",
        "    \n",
        "Output:\n",
        "    The gradient of the loss with respect to w. \n",
        "'''\n",
        "def gradient(x, y, w):\n",
        "  return -2 * (y - w.dot(x)) * x\n",
        "\n",
        "\n",
        "'''\n",
        "Perform SGD using dataset (X, Y), initial weight vector w_start,\n",
        "learning rate eta, and N_epochs epochs.\n",
        "\n",
        "Inputs:\n",
        "    X: A (N, D) shaped numpy array containing the data points.\n",
        "    Y: A (N, ) shaped numpy array containing the (float) labels of the data points.\n",
        "    w_start:  A (D, ) shaped numpy array containing the weight vector initialization.\n",
        "    eta: The step size.\n",
        "    N_epochs: The number of epochs (iterations) to run SGD.\n",
        "    \n",
        "Outputs:\n",
        "    w: A (D, ) shaped array containing the final weight vector.\n",
        "    losses: A (N_epochs, ) shaped array containing the losses from all iterations.\n",
        "'''\n",
        "def SGD(X, Y, w_start, eta, N_epochs):\n",
        "  N = Y.size\n",
        "  D = len(w_start)\n",
        "  W = np.zeros((N_epochs, D))\n",
        "  losses = np.zeros(N_epochs, )\n",
        "  w = np.array(w_start)\n",
        "  for n in range(N_epochs):\n",
        "    # Trains the model defined by weight vector w_start for this epoch\n",
        "    for i in np.random.permutation([*range(N)]):\n",
        "      w -= eta * gradient(X[i], Y[i], w)\n",
        "    # Computes the loss for the model at the end of this epoch\n",
        "    losses[n] = loss(X, Y, w)\n",
        "  return w, losses"
      ],
      "metadata": {
        "id": "xcpsinpnoxqT"
      },
      "execution_count": null,
      "outputs": []
    },
    {
      "cell_type": "markdown",
      "source": [
        "Next, we need to load the dataset. In doing so, the following function may be helpful:\n",
        "\n"
      ],
      "metadata": {
        "id": "P8K3Sj_JpC95"
      }
    },
    {
      "cell_type": "code",
      "source": [
        "def load_data(filename):\n",
        "    \"\"\"\n",
        "    Function loads data stored in the file filename and returns it as a numpy ndarray.\n",
        "    \n",
        "    Inputs:\n",
        "        filename: GeneratorExitiven as a string.\n",
        "    \n",
        "    Outputs:\n",
        "        Data contained in the file, returned as a numpy ndarray\n",
        "    \"\"\"\n",
        "    return np.loadtxt(filename, skiprows=1, delimiter=',')"
      ],
      "metadata": {
        "id": "35vgOOKjo-fM"
      },
      "execution_count": null,
      "outputs": []
    },
    {
      "cell_type": "markdown",
      "source": [
        "Now, load the dataset in ``sgd_data.csv`` and run SGD using the given parameters; print out the final weights."
      ],
      "metadata": {
        "id": "xsilTCfypJQx"
      }
    },
    {
      "cell_type": "code",
      "source": [
        "# Given parameters\n",
        "weight_elements = 5\n",
        "starting_weight = 0.001\n",
        "w_start = [starting_weight] * weight_elements\n",
        "eta = math.e ** (-15)\n",
        "N_epochs = 800\n",
        "\n",
        "# Reads in data from csv file\n",
        "data = load_data('https://raw.githubusercontent.com/emiletimothy/Caltech-CS155-2023/main/set1/src/data/sgd_data.csv')\n",
        "\n",
        "# Saves Y and X values, appending 1 as an element to every point to account for bias term\n",
        "Y = data[:, weight_elements - 1]\n",
        "X = np.zeros((Y.shape[0], weight_elements))\n",
        "i = 0\n",
        "for x in data[:, 0 : weight_elements-1]:\n",
        "  X[i] = np.append(x, 1)\n",
        "  i += 1"
      ],
      "metadata": {
        "id": "78YMbMqcpFjz"
      },
      "execution_count": null,
      "outputs": []
    },
    {
      "cell_type": "code",
      "source": [
        "# Computes Stochastic Gradient Descent\n",
        "w, losses = SGD(X, Y, w_start, eta, N_epochs)\n",
        "\n",
        "# Prints the Final Weights\n",
        "print(\"Final weights:\", w[0:4], \"\\nFinal bias term:\", w[4])\n",
        "print(\"With Loss:\", losses[N_epochs - 1])"
      ],
      "metadata": {
        "colab": {
          "base_uri": "https://localhost:8080/"
        },
        "id": "xvF8tkP-uauE",
        "outputId": "86caf008-5ec5-4420-dd7e-7c3e4fb13406"
      },
      "execution_count": null,
      "outputs": [
        {
          "output_type": "stream",
          "name": "stdout",
          "text": [
            "Final weights: [ -5.94209816   3.94391425 -11.72383085   8.78568865] \n",
            "Final bias term: -0.2271698736319544\n",
            "With Loss: 4826.269754737546\n"
          ]
        }
      ]
    },
    {
      "cell_type": "markdown",
      "source": [
        "# Problem 3H: Convergence of SGD\n",
        "\n",
        "This problem examines the convergence of SGD for different learning rates. Please implement your code in the cell below:"
      ],
      "metadata": {
        "id": "pLPqwWxYpQbQ"
      }
    },
    {
      "cell_type": "code",
      "source": [
        "'''Plotting SGD convergence for Different Learning Rates'''\n",
        "\n",
        "# Given parameters\n",
        "eta_vals = [math.e**(-10), math.e**(-11), \n",
        "            math.e**(-12), math.e**(-13), \n",
        "            math.e**(-14), math.e**(-15)]\n",
        "\n",
        "# Creates the plot\n",
        "plt.figure()\n",
        "\n",
        "# Plots the losses against epochs for each different step size\n",
        "epochs = [*range(N_epochs)]\n",
        "etas = len(eta_vals)\n",
        "losses = np.zeros((etas, N_epochs))\n",
        "for i in range(etas):\n",
        "  _, losses[i] = SGD(X, Y, w_start, eta_vals[i], N_epochs)\n",
        "  plt.plot(epochs, losses[i])\n",
        "\n",
        "# Labels the figure\n",
        "plt.legend([\"e^-10\",\"e^-11\",\"e^-12\",\"e^-13\",\"e^-14\",\"e^-15\"], loc = 'best')\n",
        "plt.xlabel('Epoch')\n",
        "plt.ylabel('Training Error (Squared Loss)')\n",
        "plt.title('SGD Convergence for Different Learning Rates')"
      ],
      "metadata": {
        "id": "C8RdVKO6pKHX",
        "colab": {
          "base_uri": "https://localhost:8080/",
          "height": 312
        },
        "outputId": "dfb6a6dd-92b7-4937-d48b-4b941703481c"
      },
      "execution_count": null,
      "outputs": [
        {
          "output_type": "execute_result",
          "data": {
            "text/plain": [
              "Text(0.5, 1.0, 'SGD Convergence for Different Learning Rates')"
            ]
          },
          "metadata": {},
          "execution_count": 37
        },
        {
          "output_type": "display_data",
          "data": {
            "text/plain": [
              "<Figure size 432x288 with 1 Axes>"
            ],
            "image/png": "[encoded data removed]"
          },
          "metadata": {
            "needs_background": "light"
          }
        }
      ]
    },
    {
      "cell_type": "markdown",
      "source": [
        "# Problem 3I\n",
        "\n",
        "Provide your code for computing the least-squares analytical solution below.\n",
        "\n"
      ],
      "metadata": {
        "id": "n-Bti2CtpWX3"
      }
    },
    {
      "cell_type": "code",
      "source": [
        "\n",
        "'''\n",
        "Computes the finals weight vector analytially \n",
        "using closed form solution for linear regression with least squares.\n",
        "\n",
        "Inputs:\n",
        "    X: A (N, D) shaped numpy array containing the data points.\n",
        "    Y: A (N, ) shaped numpy array containing the (float) labels of the data points.\n",
        "    \n",
        "Outputs:\n",
        "    w: A (D, ) shaped array containing the final weight vector.\n",
        "'''\n",
        "def compute_weights_analytical(X, Y):\n",
        "  X_tranpose = X.T\n",
        "  inv_xx = np.linalg.pinv(X_tranpose.dot(X))\n",
        "  xy = X_tranpose.dot(Y)\n",
        "  out = inv_xx.dot(xy)\n",
        "  return out\n",
        "\n",
        "w = compute_weights_analytical(X, Y)\n",
        "loss = loss(X, Y, w)\n",
        "\n",
        "# Prints the Final Weights\n",
        "print(\"Final weights:\", w[0:4], \"\\nFinal bias term:\", w[4])\n",
        "print(\"With Loss:\", loss)\n",
        "\n"
      ],
      "metadata": {
        "id": "gxeUrCN1pUgb",
        "colab": {
          "base_uri": "https://localhost:8080/"
        },
        "outputId": "793dd221-eaf3-4da8-b2aa-177b8b5f50a6"
      },
      "execution_count": null,
      "outputs": [
        {
          "output_type": "stream",
          "name": "stdout",
          "text": [
            "Final weights: [ -5.99157048   4.01509955 -11.93325972   8.99061096] \n",
            "Final bias term: -0.3164425132713973\n",
            "With Loss: 4071.140386809389\n"
          ]
        }
      ]
    }
  ]
}