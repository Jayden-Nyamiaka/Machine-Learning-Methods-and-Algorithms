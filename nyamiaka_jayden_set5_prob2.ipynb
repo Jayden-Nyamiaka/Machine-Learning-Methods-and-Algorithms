{
  "cells": [
    {
      "cell_type": "markdown",
      "metadata": {
        "id": "view-in-github",
        "colab_type": "text"
      },
      "source": [
        "<a href=\"https://colab.research.google.com/github/Jayden-Nyamiaka/Machine-Learning-and-Data-Mining/blob/main/nyamiaka_jayden_set5_prob2.ipynb\" target=\"_parent\"><img src=\"https://colab.research.google.com/assets/colab-badge.svg\" alt=\"Open In Colab\"/></a>"
      ]
    },
    {
      "cell_type": "markdown",
      "metadata": {
        "id": "nlVvIQCF76Yf"
      },
      "source": [
        "[![Open In Colab](https://colab.research.google.com/assets/colab-badge.svg)](https://colab.research.google.com/github/emiletimothy/Caltech-CS155-2023/blob/main/set5/set5_prob2.ipynb)\n"
      ]
    },
    {
      "cell_type": "markdown",
      "metadata": {
        "id": "g63yi7mV76Yj"
      },
      "source": [
        "# Problem 2"
      ]
    },
    {
      "cell_type": "code",
      "execution_count": null,
      "metadata": {
        "id": "yq-XApCZ76Yk"
      },
      "outputs": [],
      "source": [
        "import numpy as np\n",
        "import matplotlib.pyplot as plt"
      ]
    },
    {
      "cell_type": "code",
      "source": [
        "arr = np.random.randint(-54, high=127, size=22)\n",
        "print(arr)\n",
        "men = arr.mean()\n",
        "print(men)"
      ],
      "metadata": {
        "colab": {
          "base_uri": "https://localhost:8080/"
        },
        "id": "68mWsLDpFpdy",
        "outputId": "a06dae6c-b8d9-408c-e5dd-1468db2252e8"
      },
      "execution_count": null,
      "outputs": [
        {
          "output_type": "stream",
          "name": "stdout",
          "text": [
            "[-35  86  83  51  37 -49 110  69  94 -36 -52  98  56  14  41  95  36  23\n",
            "  67 -32 -37  76]\n",
            "36.13636363636363\n"
          ]
        }
      ]
    },
    {
      "cell_type": "code",
      "source": [
        "arr_up = arr - arr.mean()\n",
        "print(arr_up)\n",
        "print(arr_up.mean())"
      ],
      "metadata": {
        "colab": {
          "base_uri": "https://localhost:8080/"
        },
        "id": "pmF7401jGNVg",
        "outputId": "306971c4-280f-4003-bd6a-b33cfe3e03a4"
      },
      "execution_count": null,
      "outputs": [
        {
          "output_type": "stream",
          "name": "stdout",
          "text": [
            "[-71.13636364  49.86363636  46.86363636  14.86363636   0.86363636\n",
            " -85.13636364  73.86363636  32.86363636  57.86363636 -72.13636364\n",
            " -88.13636364  61.86363636  19.86363636 -22.13636364   4.86363636\n",
            "  58.86363636  -0.13636364 -13.13636364  30.86363636 -68.13636364\n",
            " -73.13636364  39.86363636]\n",
            "7.428401328401047e-15\n"
          ]
        }
      ]
    },
    {
      "cell_type": "code",
      "source": [
        "print(arr.mean())"
      ],
      "metadata": {
        "colab": {
          "base_uri": "https://localhost:8080/"
        },
        "id": "s56cVfJfGZ_Y",
        "outputId": "7ab39919-bede-4986-e706-a6ea4114e729"
      },
      "execution_count": null,
      "outputs": [
        {
          "output_type": "stream",
          "name": "stdout",
          "text": [
            "38.59090909090909\n"
          ]
        }
      ]
    },
    {
      "cell_type": "code",
      "execution_count": null,
      "metadata": {
        "id": "O4R-J3xj76Yl",
        "colab": {
          "base_uri": "https://localhost:8080/"
        },
        "outputId": "9cc469a0-8ea4-4d5c-c09f-89b8d4e9e38a"
      },
      "outputs": [
        {
          "output_type": "stream",
          "name": "stdout",
          "text": [
            "--2023-02-23 05:01:37--  https://raw.githubusercontent.com/emiletimothy/Caltech-CS155-2023/main/set5/data/train.txt\n",
            "Resolving raw.githubusercontent.com (raw.githubusercontent.com)... 185.199.108.133, 185.199.109.133, 185.199.110.133, ...\n",
            "Connecting to raw.githubusercontent.com (raw.githubusercontent.com)|185.199.108.133|:443... connected.\n",
            "HTTP request sent, awaiting response... 200 OK\n",
            "Length: 685602 (670K) [text/plain]\n",
            "Saving to: ‘train.txt’\n",
            "\n",
            "\rtrain.txt             0%[                    ]       0  --.-KB/s               \rtrain.txt           100%[===================>] 669.53K  --.-KB/s    in 0.01s   \n",
            "\n",
            "2023-02-23 05:01:37 (68.5 MB/s) - ‘train.txt’ saved [685602/685602]\n",
            "\n",
            "--2023-02-23 05:01:37--  https://raw.githubusercontent.com/emiletimothy/Caltech-CS155-2023/main/set5/data/test.txt\n",
            "Resolving raw.githubusercontent.com (raw.githubusercontent.com)... 185.199.110.133, 185.199.111.133, 185.199.109.133, ...\n",
            "Connecting to raw.githubusercontent.com (raw.githubusercontent.com)|185.199.110.133|:443... connected.\n",
            "HTTP request sent, awaiting response... 200 OK\n",
            "Length: 293571 (287K) [text/plain]\n",
            "Saving to: ‘test.txt’\n",
            "\n",
            "test.txt            100%[===================>] 286.69K  --.-KB/s    in 0.007s  \n",
            "\n",
            "2023-02-23 05:01:37 (41.3 MB/s) - ‘test.txt’ saved [293571/293571]\n",
            "\n"
          ]
        }
      ],
      "source": [
        "# download the dataset\n",
        "!wget -O train.txt https://raw.githubusercontent.com/emiletimothy/Caltech-CS155-2023/main/set5/data/train.txt\n",
        "!wget -O test.txt https://raw.githubusercontent.com/emiletimothy/Caltech-CS155-2023/main/set5/data/test.txt"
      ]
    },
    {
      "cell_type": "markdown",
      "metadata": {
        "id": "EHjD_vz576Yl"
      },
      "source": [
        "## 2C:\n",
        "Fill in these functions to train your SVD"
      ]
    },
    {
      "cell_type": "code",
      "execution_count": null,
      "metadata": {
        "id": "0Fr0LT9v76Ym"
      },
      "outputs": [],
      "source": [
        "\"\"\"\n",
        "Takes as input Ui (the ith row of U), a training point Yij, the column\n",
        "vector Vj (jth column of V^T), reg (the regularization parameter lambda),\n",
        "and eta (the learning rate).\n",
        "\n",
        "Returns the gradient of the regularized loss function with\n",
        "respect to Ui multiplied by eta.\n",
        "\"\"\"\n",
        "def grad_U(Ui, Yij, Vj, reg, eta):\n",
        "  res = Yij - Ui.dot(Vj)\n",
        "  grad = eta * (reg * Ui - Vj * res)   \n",
        "  return grad\n",
        "\n",
        "\n",
        "\"\"\"\n",
        "Takes as input the column vector Vj (jth column of V^T), a training point Yij,\n",
        "Ui (the ith row of U), reg (the regularization parameter lambda),\n",
        "and eta (the learning rate).\n",
        "\n",
        "Returns the gradient of the regularized loss function with\n",
        "respect to Vj multiplied by eta.\n",
        "\"\"\"\n",
        "def grad_V(Vj, Yij, Ui, reg, eta):\n",
        "  res = Yij - Ui.dot(Vj)\n",
        "  grad = eta * (reg * Vj - Ui * res)   \n",
        "  return grad\n",
        "\n",
        "\n",
        "\"\"\"\n",
        "Takes as input a matrix Y of triples (i, j, Y_ij) where i is the index of a user,\n",
        "j is the index of a movie, and Y_ij is user i's rating of movie j and\n",
        "user/movie matrices U and V.\n",
        "\n",
        "Returns the mean regularized squared-error of predictions made by\n",
        "estimating Y_{ij} as the dot product of the ith row of U and the jth column of V^T.\n",
        "\"\"\"\n",
        "def get_err(U, V, Y, reg=0.0):\n",
        "  residual_sum = 0\n",
        "  for (i, j, Yij) in Y:\n",
        "    res = Yij - (U[i - 1]).dot(V[j - 1])\n",
        "    residual_sum += res*res\n",
        "  square_err = 0.5 * residual_sum\n",
        "\n",
        "  regularize = 0\n",
        "  if (reg != 0):\n",
        "    Ufro = np.linalg.norm(U, 'fro')\n",
        "    Vfro = np.linalg.norm(V, 'fro')\n",
        "    regularize = 0.5 * reg * (Ufro*Ufro + Vfro*Vfro)\n",
        "  \n",
        "  err = (regularize + square_err) / len(Y)\n",
        "  return err\n",
        "\n",
        "\n",
        "\"\"\"\n",
        "Given a training data matrix Y containing rows (i, j, Y_ij)\n",
        "where Y_ij is user i's rating on movie j, learns an\n",
        "M x K matrix U and N x K matrix V such that rating Y_ij is approximated\n",
        "by (UV^T)_ij.\n",
        "\n",
        "Uses a learning rate of <eta> and regularization of <reg>. Stops after\n",
        "<max_epochs> epochs, or once the magnitude of the decrease in regularized\n",
        "MSE between epochs is smaller than a fraction <eps> of the decrease in\n",
        "MSE after the first epoch.\n",
        "\n",
        "Returns a tuple (U, V, err) consisting of U, V, and the unregularized MSE\n",
        "of the model.\n",
        "\"\"\"\n",
        "def train_model(M, N, K, eta, reg, Y, eps=0.0001, max_epochs=300):\n",
        "  U = np.random.uniform(-0.5, 0.5, (M,K))\n",
        "  V = np.random.uniform(-0.5, 0.5, (N,K))\n",
        "  first_epoch_regMSE_decr = 0\n",
        "  prev_regMSE = get_err(U, V, Y, reg)\n",
        "\n",
        "  for epoch in range(max_epochs):\n",
        "    # Prints training progress every 5 epochs\n",
        "    if (epoch % 5 == 0):\n",
        "      print(\"Epoch \", epoch)\n",
        "    # Trains and updates U and V using SGD for each point\n",
        "    shuffled_indices = np.random.permutation(len(Y))\n",
        "    for idx in shuffled_indices:\n",
        "      i, j, yij = Y[idx][0], Y[idx][1], Y[idx][2]\n",
        "      gradientUi = grad_U(U[i - 1], yij, V[j - 1], reg, eta)\n",
        "      gradientVj = grad_V(V[j - 1], yij, U[i - 1], reg, eta)\n",
        "      U[i - 1] -= gradientUi\n",
        "      V[j - 1] -= gradientVj\n",
        "    # Computes new regularized MSE and compares it to previous\n",
        "    regMSE = get_err(U, V, Y, reg)\n",
        "    regMSE_decr = prev_regMSE - regMSE\n",
        "    if (epoch == 0): # Stores the first epoch MSE decrease on the first iteration\n",
        "      first_epoch_regMSE_decr = regMSE_decr\n",
        "    else: # Checks stopping condition of decreasing regularized MSE\n",
        "      if (regMSE_decr < eps * first_epoch_regMSE_decr): \n",
        "        break\n",
        "    prev_regMSE = regMSE\n",
        "  \n",
        "  # Computes the unregularized MSE (reg = 0) and returns (U, V, err)\n",
        "  return (U, V, get_err(U, V, Y, 0))\n"
      ]
    },
    {
      "cell_type": "markdown",
      "metadata": {
        "id": "RfRz2-sE76Yn"
      },
      "source": [
        "## 2D:\n",
        "Run the cell below to get your graphs"
      ]
    },
    {
      "cell_type": "code",
      "execution_count": null,
      "metadata": {
        "id": "vDvG246Q76Yo",
        "colab": {
          "base_uri": "https://localhost:8080/",
          "height": 764
        },
        "outputId": "43982f3e-3f25-45da-805f-3140de8cd86e"
      },
      "outputs": [
        {
          "output_type": "stream",
          "name": "stdout",
          "text": [
            "Factorizing with  943  users,  1682  movies.\n",
            "Epoch  0\n",
            "Epoch  5\n",
            "Epoch  10\n",
            "Epoch  15\n",
            "Epoch  20\n",
            "Epoch  0\n",
            "Epoch  5\n",
            "Epoch  10\n",
            "Epoch  15\n",
            "Epoch  20\n",
            "Epoch  0\n",
            "Epoch  5\n",
            "Epoch  10\n",
            "Epoch  15\n",
            "Epoch  20\n",
            "Epoch  25\n",
            "Epoch  0\n",
            "Epoch  5\n",
            "Epoch  10\n",
            "Epoch  15\n",
            "Epoch  20\n",
            "Epoch  25\n",
            "Epoch  0\n",
            "Epoch  5\n",
            "Epoch  10\n",
            "Epoch  15\n"
          ]
        },
        {
          "output_type": "display_data",
          "data": {
            "text/plain": [
              "<Figure size 432x288 with 1 Axes>"
            ],
            "image/png": "[encoded data removed]"
          },
          "metadata": {
            "needs_background": "light"
          }
        }
      ],
      "source": [
        "Y_train = np.loadtxt('train.txt').astype(int)\n",
        "Y_test = np.loadtxt('test.txt').astype(int)\n",
        "\n",
        "M = max(max(Y_train[:,0]), max(Y_test[:,0])).astype(int) # users\n",
        "N = max(max(Y_train[:,1]), max(Y_test[:,1])).astype(int) # movies\n",
        "print(\"Factorizing with \", M, \" users, \", N, \" movies.\")\n",
        "Ks = [10,20,30,50,100]\n",
        "\n",
        "reg = 0.0\n",
        "eta = 0.03 # learning rate\n",
        "E_in = []\n",
        "E_out = []\n",
        "\n",
        "# Use to compute Ein and Eout\n",
        "for K in Ks:\n",
        "    U,V, err = train_model(M, N, K, eta, reg, Y_train)\n",
        "    E_in.append(err)\n",
        "    E_out.append(get_err(U, V, Y_test))\n",
        "\n",
        "plt.plot(Ks, E_in, label='$E_{in}$')\n",
        "plt.plot(Ks, E_out, label='$E_{out}$')\n",
        "plt.title('Error vs. K')\n",
        "plt.xlabel('K')\n",
        "plt.ylabel('Error')\n",
        "plt.legend()\n",
        "plt.savefig('2d.png')"
      ]
    },
    {
      "cell_type": "markdown",
      "metadata": {
        "id": "jaScIIsI76Yp"
      },
      "source": [
        "## 2E:\n",
        "Run the cell below to get your graphs. This might take a long time to run, but it should take less than 2 hours. I would encourage you to validate your 2C is correct."
      ]
    },
    {
      "cell_type": "code",
      "execution_count": null,
      "metadata": {
        "id": "QggLlPlY76Yp",
        "colab": {
          "base_uri": "https://localhost:8080/",
          "height": 1000
        },
        "outputId": "c83f5ab1-a4a6-4f72-de5e-8cf4fdb907ce"
      },
      "outputs": [
        {
          "output_type": "stream",
          "name": "stdout",
          "text": [
            "Training model with M = 943, N = 1682, k = 10, eta = 0.03, reg = 0.0001\n",
            "Epoch  0\n",
            "Epoch  5\n",
            "Epoch  10\n",
            "Training model with M = 943, N = 1682, k = 20, eta = 0.03, reg = 0.0001\n",
            "Epoch  0\n",
            "Epoch  5\n",
            "Epoch  10\n",
            "Epoch  15\n",
            "Epoch  20\n",
            "Training model with M = 943, N = 1682, k = 30, eta = 0.03, reg = 0.0001\n",
            "Epoch  0\n",
            "Epoch  5\n",
            "Epoch  10\n",
            "Epoch  15\n",
            "Epoch  20\n",
            "Training model with M = 943, N = 1682, k = 50, eta = 0.03, reg = 0.0001\n",
            "Epoch  0\n",
            "Epoch  5\n",
            "Epoch  10\n",
            "Epoch  15\n",
            "Epoch  20\n",
            "Training model with M = 943, N = 1682, k = 100, eta = 0.03, reg = 0.0001\n",
            "Epoch  0\n",
            "Epoch  5\n",
            "Epoch  10\n",
            "Epoch  15\n",
            "Training model with M = 943, N = 1682, k = 10, eta = 0.03, reg = 0.001\n",
            "Epoch  0\n",
            "Epoch  5\n",
            "Epoch  10\n",
            "Epoch  15\n",
            "Training model with M = 943, N = 1682, k = 20, eta = 0.03, reg = 0.001\n",
            "Epoch  0\n",
            "Epoch  5\n",
            "Epoch  10\n",
            "Epoch  15\n",
            "Training model with M = 943, N = 1682, k = 30, eta = 0.03, reg = 0.001\n",
            "Epoch  0\n",
            "Epoch  5\n",
            "Epoch  10\n",
            "Epoch  15\n",
            "Epoch  20\n",
            "Epoch  25\n",
            "Training model with M = 943, N = 1682, k = 50, eta = 0.03, reg = 0.001\n",
            "Epoch  0\n",
            "Epoch  5\n",
            "Epoch  10\n",
            "Epoch  15\n",
            "Epoch  20\n",
            "Epoch  25\n",
            "Training model with M = 943, N = 1682, k = 100, eta = 0.03, reg = 0.001\n",
            "Epoch  0\n",
            "Epoch  5\n",
            "Epoch  10\n",
            "Epoch  15\n",
            "Training model with M = 943, N = 1682, k = 10, eta = 0.03, reg = 0.01\n",
            "Epoch  0\n",
            "Epoch  5\n",
            "Epoch  10\n",
            "Training model with M = 943, N = 1682, k = 20, eta = 0.03, reg = 0.01\n",
            "Epoch  0\n",
            "Epoch  5\n",
            "Epoch  10\n",
            "Epoch  15\n",
            "Epoch  20\n",
            "Epoch  25\n",
            "Training model with M = 943, N = 1682, k = 30, eta = 0.03, reg = 0.01\n",
            "Epoch  0\n",
            "Epoch  5\n",
            "Epoch  10\n",
            "Epoch  15\n",
            "Epoch  20\n",
            "Training model with M = 943, N = 1682, k = 50, eta = 0.03, reg = 0.01\n",
            "Epoch  0\n",
            "Epoch  5\n",
            "Epoch  10\n",
            "Epoch  15\n",
            "Epoch  20\n",
            "Training model with M = 943, N = 1682, k = 100, eta = 0.03, reg = 0.01\n",
            "Epoch  0\n",
            "Epoch  5\n",
            "Epoch  10\n",
            "Epoch  15\n",
            "Training model with M = 943, N = 1682, k = 10, eta = 0.03, reg = 0.1\n",
            "Epoch  0\n",
            "Epoch  5\n",
            "Epoch  10\n",
            "Training model with M = 943, N = 1682, k = 20, eta = 0.03, reg = 0.1\n",
            "Epoch  0\n",
            "Epoch  5\n",
            "Epoch  10\n",
            "Training model with M = 943, N = 1682, k = 30, eta = 0.03, reg = 0.1\n",
            "Epoch  0\n",
            "Epoch  5\n",
            "Epoch  10\n",
            "Training model with M = 943, N = 1682, k = 50, eta = 0.03, reg = 0.1\n",
            "Epoch  0\n",
            "Epoch  5\n",
            "Epoch  10\n",
            "Epoch  15\n",
            "Training model with M = 943, N = 1682, k = 100, eta = 0.03, reg = 0.1\n",
            "Epoch  0\n",
            "Epoch  5\n",
            "Epoch  10\n",
            "Training model with M = 943, N = 1682, k = 10, eta = 0.03, reg = 1\n",
            "Epoch  0\n",
            "Training model with M = 943, N = 1682, k = 20, eta = 0.03, reg = 1\n",
            "Epoch  0\n",
            "Training model with M = 943, N = 1682, k = 30, eta = 0.03, reg = 1\n",
            "Epoch  0\n",
            "Training model with M = 943, N = 1682, k = 50, eta = 0.03, reg = 1\n",
            "Epoch  0\n",
            "Training model with M = 943, N = 1682, k = 100, eta = 0.03, reg = 1\n",
            "Epoch  0\n",
            "Epoch  5\n"
          ]
        },
        {
          "output_type": "display_data",
          "data": {
            "text/plain": [
              "<Figure size 432x288 with 1 Axes>"
            ],
            "image/png": "[encoded data removed]"
          },
          "metadata": {
            "needs_background": "light"
          }
        }
      ],
      "source": [
        "Y_train = np.loadtxt('train.txt').astype(int)\n",
        "Y_test = np.loadtxt('test.txt').astype(int)\n",
        "\n",
        "M = max(max(Y_train[:,0]), max(Y_test[:,0])).astype(int) # users\n",
        "N = max(max(Y_train[:,1]), max(Y_test[:,1])).astype(int) # movies\n",
        "Ks = [10,20,30,50,100]\n",
        "\n",
        "regs = [10**-4, 10**-3, 10**-2, 10**-1, 1]\n",
        "eta = 0.03 # learning rate\n",
        "E_ins = []\n",
        "E_outs = []\n",
        "\n",
        "# Use to compute Ein and Eout\n",
        "for reg in regs:\n",
        "    E_ins_for_lambda = []\n",
        "    E_outs_for_lambda = []\n",
        "\n",
        "    for k in Ks:\n",
        "        print(\"Training model with M = %s, N = %s, k = %s, eta = %s, reg = %s\"%(M, N, k, eta, reg))\n",
        "        U,V, e_in = train_model(M, N, k, eta, reg, Y_train)\n",
        "        E_ins_for_lambda.append(e_in)\n",
        "        eout = get_err(U, V, Y_test)\n",
        "        E_outs_for_lambda.append(eout)\n",
        "\n",
        "    E_ins.append(E_ins_for_lambda)\n",
        "    E_outs.append(E_outs_for_lambda)\n",
        "\n",
        "\n",
        "# Plot values of E_in across k for each value of lambda\n",
        "for i in range(len(regs)):\n",
        "    plt.plot(Ks, E_ins[i], label='$E_{in}, \\lambda=$'+str(regs[i]))\n",
        "plt.title('$E_{in}$ vs. K')\n",
        "plt.xlabel('K')\n",
        "plt.ylabel('Error')\n",
        "plt.legend()\n",
        "plt.savefig('2e_ein.png')\t\n",
        "plt.clf()\n",
        "\n",
        "# Plot values of E_out across k for each value of lambda\n",
        "for i in range(len(regs)):\n",
        "    plt.plot(Ks, E_outs[i], label='$E_{out}, \\lambda=$'+str(regs[i]))\n",
        "plt.title('$E_{out}$ vs. K')\n",
        "plt.xlabel('K')\n",
        "plt.ylabel('Error')\n",
        "plt.legend()\t\n",
        "plt.savefig('2e_eout.png')\t\t\n"
      ]
    }
  ],
  "metadata": {
    "kernelspec": {
      "display_name": "Python 3",
      "language": "python",
      "name": "python3"
    },
    "language_info": {
      "codemirror_mode": {
        "name": "ipython",
        "version": 3
      },
      "file_extension": ".py",
      "mimetype": "text/x-python",
      "name": "python",
      "nbconvert_exporter": "python",
      "pygments_lexer": "ipython3",
      "version": "3.5.4"
    },
    "colab": {
      "provenance": [],
      "include_colab_link": true
    }
  },
  "nbformat": 4,
  "nbformat_minor": 0
}