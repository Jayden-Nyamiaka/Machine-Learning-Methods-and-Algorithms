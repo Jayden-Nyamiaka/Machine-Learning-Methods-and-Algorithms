{
  "cells": [
    {
      "cell_type": "markdown",
      "metadata": {
        "id": "view-in-github",
        "colab_type": "text"
      },
      "source": [
        "<a href=\"https://colab.research.google.com/github/Jayden-Nyamiaka/Machine-Learning-and-Data-Mining/blob/main/nyamiaka_jayden_prob4_starter.ipynb\" target=\"_parent\"><img src=\"https://colab.research.google.com/assets/colab-badge.svg\" alt=\"Open In Colab\"/></a>"
      ]
    },
    {
      "cell_type": "markdown",
      "metadata": {
        "id": "FJhAQLCY2fZV"
      },
      "source": [
        "# Problem 4\n",
        "\n",
        "Use this notebook to write your code for problem 4."
      ]
    },
    {
      "cell_type": "code",
      "execution_count": null,
      "metadata": {
        "id": "M-jDAo1t-Gml"
      },
      "outputs": [],
      "source": [
        "import numpy as np\n",
        "import matplotlib.pyplot as plt\n",
        "%matplotlib inline"
      ]
    },
    {
      "cell_type": "markdown",
      "metadata": {
        "id": "OEPODNaM2qyC"
      },
      "source": [
        "# 3D - Convolutional network\n",
        "\n",
        "As in problem 3, we have conveniently provided for your use code that loads and preprocesses the MNIST data."
      ]
    },
    {
      "cell_type": "code",
      "execution_count": null,
      "metadata": {
        "id": "D9GXdlcf-Jep"
      },
      "outputs": [],
      "source": [
        "# load MNIST data into PyTorch format\n",
        "import torch\n",
        "import torchvision\n",
        "import torchvision.transforms as transforms\n",
        "\n",
        "torch.manual_seed(0)\n",
        "\n",
        "# set batch size\n",
        "batch_size = 32\n",
        "\n",
        "# load training data downloaded into data/ folder\n",
        "mnist_training_data = torchvision.datasets.MNIST('data/', train=True, download=True,\n",
        "                                                transform=transforms.ToTensor())\n",
        "# transforms.ToTensor() converts batch of images to 4-D tensor and normalizes 0-255 to 0-1.0\n",
        "training_data_loader = torch.utils.data.DataLoader(mnist_training_data,\n",
        "                                                  batch_size=batch_size,\n",
        "                                                  shuffle=True)\n",
        "\n",
        "# load test data\n",
        "mnist_test_data = torchvision.datasets.MNIST('data/', train=False, download=True,\n",
        "                                                transform=transforms.ToTensor())\n",
        "test_data_loader = torch.utils.data.DataLoader(mnist_test_data,\n",
        "                                                  batch_size=batch_size,\n",
        "                                                  shuffle=False)"
      ]
    },
    {
      "cell_type": "code",
      "execution_count": null,
      "metadata": {
        "colab": {
          "base_uri": "https://localhost:8080/"
        },
        "id": "R0oZeeGP3g0o",
        "outputId": "15aa713c-5d52-425c-b11e-e07bfffd29ea"
      },
      "outputs": [
        {
          "output_type": "stream",
          "name": "stdout",
          "text": [
            "1875 training batches\n",
            "60000 training samples\n",
            "313 validation batches\n"
          ]
        }
      ],
      "source": [
        "# look at the number of batches per epoch for training and validation\n",
        "print(f'{len(training_data_loader)} training batches')\n",
        "print(f'{len(training_data_loader) * batch_size} training samples')\n",
        "print(f'{len(test_data_loader)} validation batches')"
      ]
    },
    {
      "cell_type": "code",
      "execution_count": null,
      "metadata": {
        "id": "djnR78Bz-MOD"
      },
      "outputs": [],
      "source": [
        "# sample model\n",
        "import torch.nn as nn\n",
        "\n",
        "model = nn.Sequential(\n",
        "    nn.Conv2d(1, 8, kernel_size=(3,3)),\n",
        "    nn.ReLU(),\n",
        "    nn.MaxPool2d(2),\n",
        "    nn.Dropout(p=0.75),\n",
        "    \n",
        "    nn.Conv2d(8, 8, kernel_size=(3,3)),\n",
        "    nn.ReLU(),\n",
        "    nn.MaxPool2d(2),\n",
        "    nn.Dropout(p=0.75),\n",
        "    \n",
        "    nn.Flatten(),\n",
        "    nn.Linear(25*8, 64),\n",
        "    nn.ReLU(),\n",
        "    nn.Linear(64, 10)\n",
        "    # PyTorch implementation of cross-entropy loss includes softmax layer\n",
        ")"
      ]
    },
    {
      "cell_type": "code",
      "execution_count": null,
      "metadata": {
        "colab": {
          "base_uri": "https://localhost:8080/"
        },
        "id": "q0unW7P93uC3",
        "outputId": "6865377e-9cfa-4436-9caf-3f477e22b7c2"
      },
      "outputs": [
        {
          "output_type": "stream",
          "name": "stdout",
          "text": [
            "torch.Size([8, 1, 3, 3])\n",
            "torch.Size([8])\n",
            "torch.Size([8, 8, 3, 3])\n",
            "torch.Size([8])\n",
            "torch.Size([64, 200])\n",
            "torch.Size([64])\n",
            "torch.Size([10, 64])\n",
            "torch.Size([10])\n"
          ]
        }
      ],
      "source": [
        "# why don't we take a look at the shape of the weights for each layer\n",
        "for p in model.parameters():\n",
        "    print(p.data.shape)"
      ]
    },
    {
      "cell_type": "code",
      "execution_count": null,
      "metadata": {
        "colab": {
          "base_uri": "https://localhost:8080/"
        },
        "id": "pgUYYqn1-QE4",
        "outputId": "115b23ec-307f-4a38-bf60-9702c101848e"
      },
      "outputs": [
        {
          "output_type": "stream",
          "name": "stdout",
          "text": [
            "total params: 14178\n",
            "trainable params: 14178\n"
          ]
        }
      ],
      "source": [
        "# our model has some # of parameters:\n",
        "count = 0\n",
        "trainable_count = 0\n",
        "for p in model.parameters():\n",
        "    n_params = np.prod(list(p.data.shape)).item()\n",
        "    count += n_params\n",
        "    if p.requires_grad:\n",
        "        trainable_count += n_params\n",
        "print(f'total params: {count}\\ntrainable params: {trainable_count}')"
      ]
    },
    {
      "cell_type": "code",
      "execution_count": null,
      "metadata": {
        "id": "-lUBzqvRA5V8"
      },
      "outputs": [],
      "source": [
        "# For a multi-class classification problem\n",
        "import torch.optim as optim\n",
        "criterion = nn.CrossEntropyLoss()\n",
        "optimizer = optim.RMSprop(model.parameters())"
      ]
    },
    {
      "cell_type": "markdown",
      "metadata": {
        "id": "caBhKJBj4JSM"
      },
      "source": [
        "# Visualization\n",
        "\n",
        "We are providing you with a function to help you visualize what your model is learning.\n",
        "\n",
        "Your model takes in an image as input and outputs a vector in 10-dimensional space. If your model is a good digit classifier, then you would expect that output vectors corresponding to the same digit should be close together in this 10-dimensional space. If it achieves that, then we say it learned a useful representation of the digits - your model is capable of encoding incredibly high-dimensional data (raw-pixels of an image) into a more compact 10-dimensional space.\n",
        "\n",
        "While we cannot directly visualize a high-dimensional space, we can project these vectors into 2 dimensions to get a sense of what is going on. We do this using an algorithm called tSNE."
      ]
    },
    {
      "cell_type": "code",
      "execution_count": null,
      "metadata": {
        "id": "ToSEZg3iC9U8"
      },
      "outputs": [],
      "source": [
        "from sklearn.manifold import TSNE\n",
        "\n",
        "def visualize_predictions(model):\n",
        "    #  TSNE projects high-dimensional vectors to 2D space\n",
        "    tsne = TSNE(n_components=2, learning_rate=\"auto\", init=\"random\")\n",
        "\n",
        "    sample_size = 1000\n",
        "    data_sampler = torch.utils.data.DataLoader(mnist_training_data, batch_size=sample_size, shuffle=True)\n",
        "    sample = next(iter(data_sampler))\n",
        "    images, labels = sample\n",
        "    feature_vectors = model(images)\n",
        "    features_2D = tsne.fit_transform(feature_vectors.detach().numpy())\n",
        "\n",
        "    for digit in range(0, 10):\n",
        "        points_x, points_y = [], []\n",
        "        for i in range(len(features_2D)):\n",
        "            if labels[i].item() == digit:\n",
        "                points_x.append(features_2D[i, 0])\n",
        "                points_y.append(features_2D[i, 1])\n",
        "        plt.scatter(points_x, points_y, label=f\"{digit}\")\n",
        "\n",
        "    plt.legend()\n",
        "    plt.show()"
      ]
    },
    {
      "cell_type": "code",
      "execution_count": null,
      "metadata": {
        "colab": {
          "base_uri": "https://localhost:8080/",
          "height": 265
        },
        "id": "xHxqp4lh6qCq",
        "outputId": "1c513cdc-eb3a-4bc5-f671-486ad61c52cb"
      },
      "outputs": [
        {
          "output_type": "display_data",
          "data": {
            "text/plain": [
              "<Figure size 432x288 with 1 Axes>"
            ],
            "image/png": "[encoded data removed]"
          },
          "metadata": {
            "needs_background": "light"
          }
        }
      ],
      "source": [
        "# an untrained model classifies digits at random!\n",
        "visualize_predictions(model)"
      ]
    },
    {
      "cell_type": "markdown",
      "metadata": {
        "id": "O2qHo7qQZZTA"
      },
      "source": [
        "### Train loop"
      ]
    },
    {
      "cell_type": "code",
      "execution_count": null,
      "metadata": {
        "colab": {
          "base_uri": "https://localhost:8080/",
          "height": 398
        },
        "id": "msFQ0MKp-SY8",
        "outputId": "0df48d57-d349-4994-d31c-990400a8fce1"
      },
      "outputs": [
        {
          "output_type": "stream",
          "name": "stdout",
          "text": [
            "Epoch 1/10:"
          ]
        },
        {
          "output_type": "error",
          "ename": "ValueError",
          "evalue": "ignored",
          "traceback": [
            "\u001b[0;31m---------------------------------------------------------------------------\u001b[0m",
            "\u001b[0;31mValueError\u001b[0m                                Traceback (most recent call last)",
            "\u001b[0;32m<ipython-input-28-c79b2ac257d8>\u001b[0m in \u001b[0;36m<module>\u001b[0;34m\u001b[0m\n\u001b[1;32m     18\u001b[0m         \u001b[0moptimizer\u001b[0m\u001b[0;34m.\u001b[0m\u001b[0mzero_grad\u001b[0m\u001b[0;34m(\u001b[0m\u001b[0;34m)\u001b[0m\u001b[0;34m\u001b[0m\u001b[0;34m\u001b[0m\u001b[0m\n\u001b[1;32m     19\u001b[0m         \u001b[0;31m# forward pass\u001b[0m\u001b[0;34m\u001b[0m\u001b[0;34m\u001b[0m\u001b[0;34m\u001b[0m\u001b[0m\n\u001b[0;32m---> 20\u001b[0;31m         \u001b[0moutput\u001b[0m \u001b[0;34m=\u001b[0m \u001b[0mmodel\u001b[0m\u001b[0;34m(\u001b[0m\u001b[0mimages\u001b[0m\u001b[0;34m)\u001b[0m\u001b[0;34m\u001b[0m\u001b[0;34m\u001b[0m\u001b[0m\n\u001b[0m\u001b[1;32m     21\u001b[0m         \u001b[0;31m# calculate categorical cross entropy loss\u001b[0m\u001b[0;34m\u001b[0m\u001b[0;34m\u001b[0m\u001b[0;34m\u001b[0m\u001b[0m\n\u001b[1;32m     22\u001b[0m         \u001b[0mloss\u001b[0m \u001b[0;34m=\u001b[0m \u001b[0mcriterion\u001b[0m\u001b[0;34m(\u001b[0m\u001b[0moutput\u001b[0m\u001b[0;34m,\u001b[0m \u001b[0mlabels\u001b[0m\u001b[0;34m)\u001b[0m\u001b[0;34m\u001b[0m\u001b[0;34m\u001b[0m\u001b[0m\n",
            "\u001b[0;32m/usr/local/lib/python3.8/dist-packages/torch/nn/modules/module.py\u001b[0m in \u001b[0;36m_call_impl\u001b[0;34m(self, *input, **kwargs)\u001b[0m\n\u001b[1;32m   1192\u001b[0m         if not (self._backward_hooks or self._forward_hooks or self._forward_pre_hooks or _global_backward_hooks\n\u001b[1;32m   1193\u001b[0m                 or _global_forward_hooks or _global_forward_pre_hooks):\n\u001b[0;32m-> 1194\u001b[0;31m             \u001b[0;32mreturn\u001b[0m \u001b[0mforward_call\u001b[0m\u001b[0;34m(\u001b[0m\u001b[0;34m*\u001b[0m\u001b[0minput\u001b[0m\u001b[0;34m,\u001b[0m \u001b[0;34m**\u001b[0m\u001b[0mkwargs\u001b[0m\u001b[0;34m)\u001b[0m\u001b[0;34m\u001b[0m\u001b[0;34m\u001b[0m\u001b[0m\n\u001b[0m\u001b[1;32m   1195\u001b[0m         \u001b[0;31m# Do not call functions when jit is used\u001b[0m\u001b[0;34m\u001b[0m\u001b[0;34m\u001b[0m\u001b[0;34m\u001b[0m\u001b[0m\n\u001b[1;32m   1196\u001b[0m         \u001b[0mfull_backward_hooks\u001b[0m\u001b[0;34m,\u001b[0m \u001b[0mnon_full_backward_hooks\u001b[0m \u001b[0;34m=\u001b[0m \u001b[0;34m[\u001b[0m\u001b[0;34m]\u001b[0m\u001b[0;34m,\u001b[0m \u001b[0;34m[\u001b[0m\u001b[0;34m]\u001b[0m\u001b[0;34m\u001b[0m\u001b[0;34m\u001b[0m\u001b[0m\n",
            "\u001b[0;32m/usr/local/lib/python3.8/dist-packages/torch/nn/modules/container.py\u001b[0m in \u001b[0;36mforward\u001b[0;34m(self, input)\u001b[0m\n\u001b[1;32m    202\u001b[0m     \u001b[0;32mdef\u001b[0m \u001b[0mforward\u001b[0m\u001b[0;34m(\u001b[0m\u001b[0mself\u001b[0m\u001b[0;34m,\u001b[0m \u001b[0minput\u001b[0m\u001b[0;34m)\u001b[0m\u001b[0;34m:\u001b[0m\u001b[0;34m\u001b[0m\u001b[0;34m\u001b[0m\u001b[0m\n\u001b[1;32m    203\u001b[0m         \u001b[0;32mfor\u001b[0m \u001b[0mmodule\u001b[0m \u001b[0;32min\u001b[0m \u001b[0mself\u001b[0m\u001b[0;34m:\u001b[0m\u001b[0;34m\u001b[0m\u001b[0;34m\u001b[0m\u001b[0m\n\u001b[0;32m--> 204\u001b[0;31m             \u001b[0minput\u001b[0m \u001b[0;34m=\u001b[0m \u001b[0mmodule\u001b[0m\u001b[0;34m(\u001b[0m\u001b[0minput\u001b[0m\u001b[0;34m)\u001b[0m\u001b[0;34m\u001b[0m\u001b[0;34m\u001b[0m\u001b[0m\n\u001b[0m\u001b[1;32m    205\u001b[0m         \u001b[0;32mreturn\u001b[0m \u001b[0minput\u001b[0m\u001b[0;34m\u001b[0m\u001b[0;34m\u001b[0m\u001b[0m\n\u001b[1;32m    206\u001b[0m \u001b[0;34m\u001b[0m\u001b[0m\n",
            "\u001b[0;32m/usr/local/lib/python3.8/dist-packages/torch/nn/modules/module.py\u001b[0m in \u001b[0;36m_call_impl\u001b[0;34m(self, *input, **kwargs)\u001b[0m\n\u001b[1;32m   1192\u001b[0m         if not (self._backward_hooks or self._forward_hooks or self._forward_pre_hooks or _global_backward_hooks\n\u001b[1;32m   1193\u001b[0m                 or _global_forward_hooks or _global_forward_pre_hooks):\n\u001b[0;32m-> 1194\u001b[0;31m             \u001b[0;32mreturn\u001b[0m \u001b[0mforward_call\u001b[0m\u001b[0;34m(\u001b[0m\u001b[0;34m*\u001b[0m\u001b[0minput\u001b[0m\u001b[0;34m,\u001b[0m \u001b[0;34m**\u001b[0m\u001b[0mkwargs\u001b[0m\u001b[0;34m)\u001b[0m\u001b[0;34m\u001b[0m\u001b[0;34m\u001b[0m\u001b[0m\n\u001b[0m\u001b[1;32m   1195\u001b[0m         \u001b[0;31m# Do not call functions when jit is used\u001b[0m\u001b[0;34m\u001b[0m\u001b[0;34m\u001b[0m\u001b[0;34m\u001b[0m\u001b[0m\n\u001b[1;32m   1196\u001b[0m         \u001b[0mfull_backward_hooks\u001b[0m\u001b[0;34m,\u001b[0m \u001b[0mnon_full_backward_hooks\u001b[0m \u001b[0;34m=\u001b[0m \u001b[0;34m[\u001b[0m\u001b[0;34m]\u001b[0m\u001b[0;34m,\u001b[0m \u001b[0;34m[\u001b[0m\u001b[0;34m]\u001b[0m\u001b[0;34m\u001b[0m\u001b[0;34m\u001b[0m\u001b[0m\n",
            "\u001b[0;32m/usr/local/lib/python3.8/dist-packages/torch/nn/modules/batchnorm.py\u001b[0m in \u001b[0;36mforward\u001b[0;34m(self, input)\u001b[0m\n\u001b[1;32m    136\u001b[0m \u001b[0;34m\u001b[0m\u001b[0m\n\u001b[1;32m    137\u001b[0m     \u001b[0;32mdef\u001b[0m \u001b[0mforward\u001b[0m\u001b[0;34m(\u001b[0m\u001b[0mself\u001b[0m\u001b[0;34m,\u001b[0m \u001b[0minput\u001b[0m\u001b[0;34m:\u001b[0m \u001b[0mTensor\u001b[0m\u001b[0;34m)\u001b[0m \u001b[0;34m->\u001b[0m \u001b[0mTensor\u001b[0m\u001b[0;34m:\u001b[0m\u001b[0;34m\u001b[0m\u001b[0;34m\u001b[0m\u001b[0m\n\u001b[0;32m--> 138\u001b[0;31m         \u001b[0mself\u001b[0m\u001b[0;34m.\u001b[0m\u001b[0m_check_input_dim\u001b[0m\u001b[0;34m(\u001b[0m\u001b[0minput\u001b[0m\u001b[0;34m)\u001b[0m\u001b[0;34m\u001b[0m\u001b[0;34m\u001b[0m\u001b[0m\n\u001b[0m\u001b[1;32m    139\u001b[0m \u001b[0;34m\u001b[0m\u001b[0m\n\u001b[1;32m    140\u001b[0m         \u001b[0;31m# exponential_average_factor is set to self.momentum\u001b[0m\u001b[0;34m\u001b[0m\u001b[0;34m\u001b[0m\u001b[0;34m\u001b[0m\u001b[0m\n",
            "\u001b[0;32m/usr/local/lib/python3.8/dist-packages/torch/nn/modules/batchnorm.py\u001b[0m in \u001b[0;36m_check_input_dim\u001b[0;34m(self, input)\u001b[0m\n\u001b[1;32m    408\u001b[0m     \u001b[0;32mdef\u001b[0m \u001b[0m_check_input_dim\u001b[0m\u001b[0;34m(\u001b[0m\u001b[0mself\u001b[0m\u001b[0;34m,\u001b[0m \u001b[0minput\u001b[0m\u001b[0;34m)\u001b[0m\u001b[0;34m:\u001b[0m\u001b[0;34m\u001b[0m\u001b[0;34m\u001b[0m\u001b[0m\n\u001b[1;32m    409\u001b[0m         \u001b[0;32mif\u001b[0m \u001b[0minput\u001b[0m\u001b[0;34m.\u001b[0m\u001b[0mdim\u001b[0m\u001b[0;34m(\u001b[0m\u001b[0;34m)\u001b[0m \u001b[0;34m!=\u001b[0m \u001b[0;36m4\u001b[0m\u001b[0;34m:\u001b[0m\u001b[0;34m\u001b[0m\u001b[0;34m\u001b[0m\u001b[0m\n\u001b[0;32m--> 410\u001b[0;31m             \u001b[0;32mraise\u001b[0m \u001b[0mValueError\u001b[0m\u001b[0;34m(\u001b[0m\u001b[0;34m\"expected 4D input (got {}D input)\"\u001b[0m\u001b[0;34m.\u001b[0m\u001b[0mformat\u001b[0m\u001b[0;34m(\u001b[0m\u001b[0minput\u001b[0m\u001b[0;34m.\u001b[0m\u001b[0mdim\u001b[0m\u001b[0;34m(\u001b[0m\u001b[0;34m)\u001b[0m\u001b[0;34m)\u001b[0m\u001b[0;34m)\u001b[0m\u001b[0;34m\u001b[0m\u001b[0;34m\u001b[0m\u001b[0m\n\u001b[0m\u001b[1;32m    411\u001b[0m \u001b[0;34m\u001b[0m\u001b[0m\n\u001b[1;32m    412\u001b[0m \u001b[0;34m\u001b[0m\u001b[0m\n",
            "\u001b[0;31mValueError\u001b[0m: expected 4D input (got 2D input)"
          ]
        }
      ],
      "source": [
        "# Train the model for 10 epochs, iterating on the data in batches\n",
        "n_epochs = 1\n",
        "\n",
        "# store metrics\n",
        "training_accuracy_history = np.zeros([n_epochs, 1])\n",
        "training_loss_history = np.zeros([n_epochs, 1])\n",
        "validation_accuracy_history = np.zeros([n_epochs, 1])\n",
        "validation_loss_history = np.zeros([n_epochs, 1])\n",
        "\n",
        "for epoch in range(n_epochs):\n",
        "    print(f'Epoch {epoch+1}/10:', end='')\n",
        "    train_total = 0\n",
        "    train_correct = 0\n",
        "    # train\n",
        "    model.train()\n",
        "    for i, data in enumerate(training_data_loader):\n",
        "        images, labels = data\n",
        "        optimizer.zero_grad()\n",
        "        # forward pass\n",
        "        output = model(images)\n",
        "        # calculate categorical cross entropy loss\n",
        "        loss = criterion(output, labels)\n",
        "        # backward pass\n",
        "        loss.backward()\n",
        "        optimizer.step()\n",
        "        \n",
        "        # track training accuracy\n",
        "        _, predicted = torch.max(output.data, 1)\n",
        "        train_total += labels.size(0)\n",
        "        train_correct += (predicted == labels).sum().item()\n",
        "        # track training loss\n",
        "        training_loss_history[epoch] += loss.item()\n",
        "        # progress update after 180 batches (~1/10 epoch for batch size 32)\n",
        "        if i % 180 == 0: print('.',end='')\n",
        "    training_loss_history[epoch] /= len(training_data_loader)\n",
        "    training_accuracy_history[epoch] = train_correct / train_total\n",
        "    print(f'\\n\\tloss: {training_loss_history[epoch,0]:0.4f}, acc: {training_accuracy_history[epoch,0]:0.4f}',end='')\n",
        "        \n",
        "    # validate\n",
        "    test_total = 0\n",
        "    test_correct = 0\n",
        "    with torch.no_grad():\n",
        "        model.eval()\n",
        "        for i, data in enumerate(test_data_loader):\n",
        "            images, labels = data\n",
        "            # forward pass\n",
        "            output = model(images)\n",
        "            # find accuracy\n",
        "            _, predicted = torch.max(output.data, 1)\n",
        "            test_total += labels.size(0)\n",
        "            test_correct += (predicted == labels).sum().item()\n",
        "            # find loss\n",
        "            loss = criterion(output, labels)\n",
        "            validation_loss_history[epoch] += loss.item()\n",
        "        validation_loss_history[epoch] /= len(test_data_loader)\n",
        "        validation_accuracy_history[epoch] = test_correct / test_total\n",
        "    print(f', val loss: {validation_loss_history[epoch,0]:0.4f}, val acc: {validation_accuracy_history[epoch,0]:0.4f}')"
      ]
    },
    {
      "cell_type": "code",
      "source": [
        "def create_model(drop_out, eps):\n",
        "  model = nn.Sequential(\n",
        "    nn.Conv2d(1, 8, kernel_size=(3,3)),\n",
        "    nn.BatchNorm2d(8, eps=eps),\n",
        "    nn.ReLU(),\n",
        "    nn.MaxPool2d(2),\n",
        "    nn.Dropout(p=drop_out),\n",
        "    \n",
        "    nn.Conv2d(8, 8, kernel_size=(3,3)),\n",
        "    nn.BatchNorm2d(8, eps=eps),\n",
        "    nn.ReLU(),\n",
        "    nn.MaxPool2d(2),\n",
        "    nn.Dropout(p=drop_out),\n",
        "    \n",
        "    nn.Flatten(),\n",
        "    nn.Linear(25*8, 64),\n",
        "    nn.ReLU(),\n",
        "    nn.Linear(64, 10)\n",
        "    # PyTorch implementation of cross-entropy loss includes softmax layer\n",
        "  )\n",
        "  return model\n",
        "\n",
        "# Train the model for n_epochs epochs then validates it and prints the loss at each epoch\n",
        "def perform_model(n_epochs, model, criterion, optimizer, training_data_loader, test_data_loader):\n",
        "  # store metrics\n",
        "  training_accuracy_history = np.zeros([n_epochs, 1])\n",
        "  training_loss_history = np.zeros([n_epochs, 1])\n",
        "  validation_accuracy_history = np.zeros([n_epochs, 1])\n",
        "  validation_loss_history = np.zeros([n_epochs, 1])\n",
        "\n",
        "  for epoch in range(n_epochs):\n",
        "      print(f'Epoch {epoch+1}/10:', end='')\n",
        "      train_total = 0\n",
        "      train_correct = 0\n",
        "      # train\n",
        "      model.train()\n",
        "      for i, data in enumerate(training_data_loader):\n",
        "          images, labels = data\n",
        "          optimizer.zero_grad()\n",
        "          # forward pass\n",
        "          output = model(images)\n",
        "          # calculate categorical cross entropy loss\n",
        "          loss = criterion(output, labels)\n",
        "          # backward pass\n",
        "          loss.backward()\n",
        "          optimizer.step()\n",
        "          \n",
        "          # track training accuracy\n",
        "          _, predicted = torch.max(output.data, 1)\n",
        "          train_total += labels.size(0)\n",
        "          train_correct += (predicted == labels).sum().item()\n",
        "          # track training loss\n",
        "          training_loss_history[epoch] += loss.item()\n",
        "          # progress update after 180 batches (~1/10 epoch for batch size 32)\n",
        "          if i % 180 == 0: print('.',end='')\n",
        "      training_loss_history[epoch] /= len(training_data_loader)\n",
        "      training_accuracy_history[epoch] = train_correct / train_total\n",
        "      print(f'\\n\\tloss: {training_loss_history[epoch,0]:0.4f}, acc: {training_accuracy_history[epoch,0]:0.4f}',end='')\n",
        "          \n",
        "      # validate\n",
        "      test_total = 0\n",
        "      test_correct = 0\n",
        "      with torch.no_grad():\n",
        "          model.eval()\n",
        "          for i, data in enumerate(test_data_loader):\n",
        "              images, labels = data\n",
        "              # forward pass\n",
        "              output = model(images)\n",
        "              # find accuracy\n",
        "              _, predicted = torch.max(output.data, 1)\n",
        "              test_total += labels.size(0)\n",
        "              test_correct += (predicted == labels).sum().item()\n",
        "              # find loss\n",
        "              loss = criterion(output, labels)\n",
        "              validation_loss_history[epoch] += loss.item()\n",
        "          validation_loss_history[epoch] /= len(test_data_loader)\n",
        "          validation_accuracy_history[epoch] = test_correct / test_total\n",
        "      print(f', val loss: {validation_loss_history[epoch,0]:0.4f}, val acc: {validation_accuracy_history[epoch,0]:0.4f}')"
      ],
      "metadata": {
        "id": "O_2UInTdq8-N"
      },
      "execution_count": null,
      "outputs": []
    },
    {
      "cell_type": "code",
      "source": [
        "drop_probs = np.arange(0, 1, 0.1)\n",
        "epsilons = np.arange(1e-5, 1e-4, 1e-5)\n",
        "best_epsilon = 0.0005\n",
        "best_drop = 0.1\n",
        "models = []\n",
        "\n",
        "for drop_out in drop_probs:\n",
        "  print(\"Testing Drop Out Probability =\", drop_out)\n",
        "  model = create_model(drop_out, best_epsilon)\n",
        "  criterion = nn.CrossEntropyLoss()\n",
        "  optimizer = optim.RMSprop(model.parameters())\n",
        "  perform_model(1, model, criterion, optimizer, training_data_loader, test_data_loader)\n",
        "  models.append(model)\n",
        "\n",
        "for eps in epsilons:\n",
        "  print(\"Testing Batch Epsilon =\", eps)\n",
        "  model = create_model(best_drop, eps)\n",
        "  criterion = nn.CrossEntropyLoss()\n",
        "  optimizer = optim.RMSprop(model.parameters())\n",
        "  perform_model(1, model, criterion, optimizer, training_data_loader, test_data_loader)\n",
        "  models.append(model)"
      ],
      "metadata": {
        "colab": {
          "base_uri": "https://localhost:8080/"
        },
        "id": "PzRqbYMJsuJQ",
        "outputId": "40e72e84-04bc-493f-d9b5-2fbd47520740"
      },
      "execution_count": null,
      "outputs": [
        {
          "output_type": "stream",
          "name": "stdout",
          "text": [
            "Testing Drop Out Probability = 0.0\n",
            "Epoch 1/10:...........\n",
            "\tloss: 0.2082, acc: 0.9376, val loss: 0.0949, val acc: 0.9702\n",
            "Testing Drop Out Probability = 0.1\n",
            "Epoch 1/10:...........\n",
            "\tloss: 0.2354, acc: 0.9293, val loss: 0.0703, val acc: 0.9784\n",
            "Testing Drop Out Probability = 0.2\n",
            "Epoch 1/10:...........\n",
            "\tloss: 0.2915, acc: 0.9095, val loss: 0.0903, val acc: 0.9693\n",
            "Testing Drop Out Probability = 0.30000000000000004\n",
            "Epoch 1/10:...........\n",
            "\tloss: 0.4002, acc: 0.8784, val loss: 0.1025, val acc: 0.9670\n",
            "Testing Drop Out Probability = 0.4\n",
            "Epoch 1/10:...........\n",
            "\tloss: 0.4082, acc: 0.8757, val loss: 0.1256, val acc: 0.9636\n",
            "Testing Drop Out Probability = 0.5\n",
            "Epoch 1/10:...........\n",
            "\tloss: 0.6798, acc: 0.7808, val loss: 0.1834, val acc: 0.9489\n",
            "Testing Drop Out Probability = 0.6000000000000001\n",
            "Epoch 1/10:...........\n",
            "\tloss: 0.7279, acc: 0.7621, val loss: 0.2214, val acc: 0.9390\n",
            "Testing Drop Out Probability = 0.7000000000000001\n",
            "Epoch 1/10:...........\n",
            "\tloss: 1.0146, acc: 0.6600, val loss: 0.4097, val acc: 0.8983\n",
            "Testing Drop Out Probability = 0.8\n",
            "Epoch 1/10:...........\n",
            "\tloss: 1.4379, acc: 0.5027, val loss: 0.7772, val acc: 0.8238\n",
            "Testing Drop Out Probability = 0.9\n",
            "Epoch 1/10:...........\n",
            "\tloss: 1.9897, acc: 0.2846, val loss: 1.6585, val acc: 0.5158\n",
            "Testing Batch Epsilon = 1e-05\n",
            "Epoch 1/10:...........\n",
            "\tloss: 0.2473, acc: 0.9298, val loss: 0.0896, val acc: 0.9739\n",
            "Testing Batch Epsilon = 2e-05\n",
            "Epoch 1/10:...........\n",
            "\tloss: 0.2549, acc: 0.9246, val loss: 0.0978, val acc: 0.9692\n",
            "Testing Batch Epsilon = 3.0000000000000004e-05\n",
            "Epoch 1/10:...........\n",
            "\tloss: 0.2290, acc: 0.9315, val loss: 0.0847, val acc: 0.9732\n",
            "Testing Batch Epsilon = 4e-05\n",
            "Epoch 1/10:...........\n",
            "\tloss: 0.2424, acc: 0.9326, val loss: 0.0990, val acc: 0.9697\n",
            "Testing Batch Epsilon = 5e-05\n",
            "Epoch 1/10:...........\n",
            "\tloss: 0.2793, acc: 0.9185, val loss: 0.1237, val acc: 0.9613\n",
            "Testing Batch Epsilon = 6e-05\n",
            "Epoch 1/10:...........\n",
            "\tloss: 0.2437, acc: 0.9260, val loss: 0.0852, val acc: 0.9746\n",
            "Testing Batch Epsilon = 7.000000000000001e-05\n",
            "Epoch 1/10:...........\n",
            "\tloss: 0.2214, acc: 0.9365, val loss: 0.0805, val acc: 0.9730\n",
            "Testing Batch Epsilon = 8e-05\n",
            "Epoch 1/10:...........\n",
            "\tloss: 0.2266, acc: 0.9330, val loss: 0.0709, val acc: 0.9785\n",
            "Testing Batch Epsilon = 9e-05\n",
            "Epoch 1/10:...........\n",
            "\tloss: 0.2814, acc: 0.9140, val loss: 0.0831, val acc: 0.9768\n"
          ]
        }
      ]
    },
    {
      "cell_type": "markdown",
      "source": [
        "We can see from the results above that a drop probability of 0.1 and a batch epsilon of 8e-5 yield the greatest validation accuracy. So, lets choose that for our model below."
      ],
      "metadata": {
        "id": "0_apEAte1-BY"
      }
    },
    {
      "cell_type": "code",
      "source": [
        "best_epsilon = 8e-5\n",
        "best_drop = 0.1\n",
        "\n",
        "model = create_model(best_drop, best_epsilon)\n",
        "criterion = nn.CrossEntropyLoss()\n",
        "optimizer = optim.RMSprop(model.parameters())\n",
        "perform_model(10, model, criterion, optimizer, training_data_loader, test_data_loader)"
      ],
      "metadata": {
        "colab": {
          "base_uri": "https://localhost:8080/"
        },
        "id": "4Rincum018zE",
        "outputId": "541fd673-a8b5-48f3-a6b5-440aff0e3ba7"
      },
      "execution_count": null,
      "outputs": [
        {
          "output_type": "stream",
          "name": "stdout",
          "text": [
            "Epoch 1/10:...........\n",
            "\tloss: 0.2499, acc: 0.9297, val loss: 0.0890, val acc: 0.9709\n",
            "Epoch 2/10:...........\n",
            "\tloss: 0.1128, acc: 0.9647, val loss: 0.0784, val acc: 0.9743\n",
            "Epoch 3/10:...........\n",
            "\tloss: 0.0973, acc: 0.9703, val loss: 0.0776, val acc: 0.9771\n",
            "Epoch 4/10:...........\n",
            "\tloss: 0.0873, acc: 0.9743, val loss: 0.0711, val acc: 0.9774\n",
            "Epoch 5/10:...........\n",
            "\tloss: 0.0841, acc: 0.9741, val loss: 0.0709, val acc: 0.9772\n",
            "Epoch 6/10:...........\n",
            "\tloss: 0.0793, acc: 0.9760, val loss: 0.0555, val acc: 0.9821\n",
            "Epoch 7/10:...........\n",
            "\tloss: 0.0776, acc: 0.9765, val loss: 0.0463, val acc: 0.9856\n",
            "Epoch 8/10:...........\n",
            "\tloss: 0.0738, acc: 0.9776, val loss: 0.0462, val acc: 0.9859\n",
            "Epoch 9/10:...........\n",
            "\tloss: 0.0703, acc: 0.9788, val loss: 0.0563, val acc: 0.9840\n",
            "Epoch 10/10:...........\n",
            "\tloss: 0.0697, acc: 0.9795, val loss: 0.0583, val acc: 0.9837\n"
          ]
        }
      ]
    },
    {
      "cell_type": "markdown",
      "source": [
        "Our model validation accuracy decreases after epoch 8, so we'll switch the optimizer to the Adam. Let's test that below."
      ],
      "metadata": {
        "id": "jA_FFGry37Jg"
      }
    },
    {
      "cell_type": "code",
      "source": [
        "best_epsilon = 8e-5\n",
        "best_drop = 0.2\n",
        "\n",
        "model = create_model(best_drop, best_epsilon)\n",
        "criterion = nn.CrossEntropyLoss()\n",
        "optimizer = optim.Adam(model.parameters())\n",
        "perform_model(10, model, criterion, optimizer, training_data_loader, test_data_loader)"
      ],
      "metadata": {
        "colab": {
          "base_uri": "https://localhost:8080/"
        },
        "id": "Z3QfvFaD4QDH",
        "outputId": "7c30289a-73a3-4f94-ee1c-8976ce5896b2"
      },
      "execution_count": null,
      "outputs": [
        {
          "output_type": "stream",
          "name": "stdout",
          "text": [
            "Epoch 1/10:...........\n",
            "\tloss: 0.2964, acc: 0.9081, val loss: 0.0733, val acc: 0.9776\n",
            "Epoch 2/10:...........\n",
            "\tloss: 0.1248, acc: 0.9604, val loss: 0.0486, val acc: 0.9839\n",
            "Epoch 3/10:...........\n",
            "\tloss: 0.1000, acc: 0.9678, val loss: 0.0414, val acc: 0.9870\n",
            "Epoch 4/10:...........\n",
            "\tloss: 0.0856, acc: 0.9727, val loss: 0.0399, val acc: 0.9883\n",
            "Epoch 5/10:...........\n",
            "\tloss: 0.0795, acc: 0.9749, val loss: 0.0342, val acc: 0.9886\n",
            "Epoch 6/10:...........\n",
            "\tloss: 0.0730, acc: 0.9771, val loss: 0.0401, val acc: 0.9881\n",
            "Epoch 7/10:...........\n",
            "\tloss: 0.0683, acc: 0.9787, val loss: 0.0329, val acc: 0.9896\n",
            "Epoch 8/10:...........\n",
            "\tloss: 0.0648, acc: 0.9793, val loss: 0.0316, val acc: 0.9901\n",
            "Epoch 9/10:...........\n",
            "\tloss: 0.0664, acc: 0.9785, val loss: 0.0313, val acc: 0.9897\n",
            "Epoch 10/10:...........\n",
            "\tloss: 0.0602, acc: 0.9804, val loss: 0.0321, val acc: 0.9898\n"
          ]
        }
      ]
    },
    {
      "cell_type": "markdown",
      "metadata": {
        "id": "ROuYd_Wt8TAH"
      },
      "source": [
        "It works! Validation Accuracy of the final model is = 0.9898 > 0.985, so we'll stop here."
      ]
    },
    {
      "cell_type": "markdown",
      "metadata": {
        "id": "CDCjKOxFZfMv"
      },
      "source": [
        "### Trained model visualization"
      ]
    },
    {
      "cell_type": "code",
      "execution_count": null,
      "metadata": {
        "colab": {
          "base_uri": "https://localhost:8080/",
          "height": 265
        },
        "id": "e8JJ92C5-e6V",
        "outputId": "93112f89-776e-4ce0-b91e-931ab3fbf7d6"
      },
      "outputs": [
        {
          "output_type": "display_data",
          "data": {
            "text/plain": [
              "<Figure size 432x288 with 1 Axes>"
            ],
            "image/png": "[encoded data removed]"
          },
          "metadata": {
            "needs_background": "light"
          }
        }
      ],
      "source": [
        "# A trained model should be able to group input images by digit!\n",
        "visualize_predictions(model)"
      ]
    },
    {
      "cell_type": "markdown",
      "source": [
        "Now, let's find those 10 dop out probability ranged models!"
      ],
      "metadata": {
        "id": "RJd-NvMUAJgU"
      }
    },
    {
      "cell_type": "code",
      "source": [
        "drop_probs = np.arange(0, 1, 0.1)\n",
        "best_epsilon = 8e-5\n",
        "models = []\n",
        "\n",
        "for drop_out in drop_probs:\n",
        "  print(\"Testing Drop Out Probability =\", drop_out)\n",
        "  model = create_model(drop_out, best_epsilon)\n",
        "  criterion = nn.CrossEntropyLoss()\n",
        "  optimizer = optim.RMSprop(model.parameters())\n",
        "  perform_model(1, model, criterion, optimizer, training_data_loader, test_data_loader)"
      ],
      "metadata": {
        "colab": {
          "base_uri": "https://localhost:8080/"
        },
        "id": "tzCk0qdiAC3P",
        "outputId": "4cd2d3a2-8f43-419e-8f9d-4eb5866496e0"
      },
      "execution_count": null,
      "outputs": [
        {
          "output_type": "stream",
          "name": "stdout",
          "text": [
            "Testing Drop Out Probability = 0.0\n",
            "Epoch 1/10:...........\n",
            "\tloss: 0.1996, acc: 0.9422, val loss: 0.1068, val acc: 0.9665\n",
            "Testing Drop Out Probability = 0.1\n",
            "Epoch 1/10:...........\n",
            "\tloss: 0.2813, acc: 0.9184, val loss: 0.0860, val acc: 0.9733\n",
            "Testing Drop Out Probability = 0.2\n",
            "Epoch 1/10:...........\n",
            "\tloss: 0.3142, acc: 0.9068, val loss: 0.1105, val acc: 0.9634\n",
            "Testing Drop Out Probability = 0.30000000000000004\n",
            "Epoch 1/10:...........\n",
            "\tloss: 0.3757, acc: 0.8843, val loss: 0.1061, val acc: 0.9696\n",
            "Testing Drop Out Probability = 0.4\n",
            "Epoch 1/10:...........\n",
            "\tloss: 0.4400, acc: 0.8621, val loss: 0.1399, val acc: 0.9592\n",
            "Testing Drop Out Probability = 0.5\n",
            "Epoch 1/10:...........\n",
            "\tloss: 0.5289, acc: 0.8346, val loss: 0.1980, val acc: 0.9393\n",
            "Testing Drop Out Probability = 0.6000000000000001\n",
            "Epoch 1/10:...........\n",
            "\tloss: 0.6450, acc: 0.7960, val loss: 0.2140, val acc: 0.9468\n",
            "Testing Drop Out Probability = 0.7000000000000001\n",
            "Epoch 1/10:...........\n",
            "\tloss: 0.8212, acc: 0.7304, val loss: 0.2746, val acc: 0.9284\n",
            "Testing Drop Out Probability = 0.8\n",
            "Epoch 1/10:...........\n",
            "\tloss: 1.2107, acc: 0.5954, val loss: 0.4944, val acc: 0.8750\n",
            "Testing Drop Out Probability = 0.9\n",
            "Epoch 1/10:...........\n",
            "\tloss: 1.9737, acc: 0.2961, val loss: 1.5295, val acc: 0.5727\n"
          ]
        }
      ]
    }
  ],
  "metadata": {
    "colab": {
      "provenance": [],
      "include_colab_link": true
    },
    "kernelspec": {
      "display_name": "base",
      "language": "python",
      "name": "python3"
    },
    "language_info": {
      "name": "python",
      "version": "3.9.13 | packaged by conda-forge | (main, May 27 2022, 17:00:33) \n[Clang 13.0.1 ]"
    },
    "vscode": {
      "interpreter": {
        "hash": "4b5295d72cc8c3d140bbb6686d5919ce0ad0a523816efde1e1cd082b7d39dbc7"
      }
    }
  },
  "nbformat": 4,
  "nbformat_minor": 0
}