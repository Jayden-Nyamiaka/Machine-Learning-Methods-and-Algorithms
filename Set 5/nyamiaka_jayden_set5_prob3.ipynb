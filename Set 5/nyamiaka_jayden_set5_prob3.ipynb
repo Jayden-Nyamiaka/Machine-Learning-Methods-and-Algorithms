{
  "cells": [
    {
      "cell_type": "markdown",
      "metadata": {
        "id": "view-in-github",
        "colab_type": "text"
      },
      "source": [
        "<a href=\"https://colab.research.google.com/github/Jayden-Nyamiaka/Machine-Learning-and-Data-Mining/blob/main/nyamiaka_jayden_set5_prob3.ipynb\" target=\"_parent\"><img src=\"https://colab.research.google.com/assets/colab-badge.svg\" alt=\"Open In Colab\"/></a>"
      ]
    },
    {
      "cell_type": "markdown",
      "metadata": {
        "id": "UwdvrXTFLOQD"
      },
      "source": [
        "[![Open In Colab](https://colab.research.google.com/assets/colab-badge.svg)](https://colab.research.google.com/github/emiletimothy/Caltech-CS155-2023/blob/main/set5/set5_prob3.ipynb)\n"
      ]
    },
    {
      "cell_type": "markdown",
      "metadata": {
        "id": "ViXzmmMF4T9_"
      },
      "source": [
        "## Set 5\n",
        "## 3. Word2Vec **Principles**"
      ]
    },
    {
      "cell_type": "markdown",
      "metadata": {
        "id": "HXT_eNcB93ue"
      },
      "source": [
        "#### Preparation"
      ]
    },
    {
      "cell_type": "code",
      "execution_count": null,
      "metadata": {
        "id": "2wZbd6FeH7cY",
        "colab": {
          "base_uri": "https://localhost:8080/"
        },
        "outputId": "96d2c5be-beaa-4040-8632-fe374ac7f250"
      },
      "outputs": [
        {
          "output_type": "stream",
          "name": "stdout",
          "text": [
            "--2023-02-23 05:00:32--  https://raw.githubusercontent.com/emiletimothy/Caltech-CS155-2023/main/set5/P3CHelpers.py\n",
            "Resolving raw.githubusercontent.com (raw.githubusercontent.com)... 185.199.110.133, 185.199.111.133, 185.199.109.133, ...\n",
            "Connecting to raw.githubusercontent.com (raw.githubusercontent.com)|185.199.110.133|:443... connected.\n",
            "HTTP request sent, awaiting response... 200 OK\n",
            "Length: 4939 (4.8K) [text/plain]\n",
            "Saving to: ‘P3CHelpers.py’\n",
            "\n",
            "\rP3CHelpers.py         0%[                    ]       0  --.-KB/s               \rP3CHelpers.py       100%[===================>]   4.82K  --.-KB/s    in 0s      \n",
            "\n",
            "2023-02-23 05:00:32 (40.5 MB/s) - ‘P3CHelpers.py’ saved [4939/4939]\n",
            "\n"
          ]
        }
      ],
      "source": [
        "# download the helper function\n",
        "!wget -O P3CHelpers.py https://raw.githubusercontent.com/emiletimothy/Caltech-CS155-2023/main/set5/P3CHelpers.py"
      ]
    },
    {
      "cell_type": "code",
      "execution_count": null,
      "metadata": {
        "id": "LmmdYcVUH9D8",
        "colab": {
          "base_uri": "https://localhost:8080/"
        },
        "outputId": "ac0d7a7b-3b00-4059-8cda-d3e852181394"
      },
      "outputs": [
        {
          "output_type": "stream",
          "name": "stdout",
          "text": [
            "--2023-02-23 05:01:09--  https://raw.githubusercontent.com/emiletimothy/Caltech-CS155-2023/main/set5/data/dr_seuss.txt\n",
            "Resolving raw.githubusercontent.com (raw.githubusercontent.com)... 185.199.108.133, 185.199.109.133, 185.199.110.133, ...\n",
            "Connecting to raw.githubusercontent.com (raw.githubusercontent.com)|185.199.108.133|:443... connected.\n",
            "HTTP request sent, awaiting response... 200 OK\n",
            "Length: 8810 (8.6K) [text/plain]\n",
            "Saving to: ‘dr_seuss.txt’\n",
            "\n",
            "\rdr_seuss.txt          0%[                    ]       0  --.-KB/s               \rdr_seuss.txt        100%[===================>]   8.60K  --.-KB/s    in 0s      \n",
            "\n",
            "2023-02-23 05:01:10 (53.8 MB/s) - ‘dr_seuss.txt’ saved [8810/8810]\n",
            "\n"
          ]
        }
      ],
      "source": [
        "# download the dataset\n",
        "!wget -O dr_seuss.txt https://raw.githubusercontent.com/emiletimothy/Caltech-CS155-2023/main/set5/data/dr_seuss.txt"
      ]
    },
    {
      "cell_type": "code",
      "execution_count": null,
      "metadata": {
        "id": "Groxh_Rz4QLB"
      },
      "outputs": [],
      "source": [
        "import numpy as np\n",
        "from P3CHelpers import *\n",
        "import torch\n",
        "import torch.nn as nn\n",
        "import torch.optim as optim"
      ]
    },
    {
      "cell_type": "markdown",
      "metadata": {
        "id": "h9aBEkZD5wb2"
      },
      "source": [
        "#### Problem D: \n",
        "Fill in the generate_traindata and find_most_similar_pairs functions."
      ]
    },
    {
      "cell_type": "code",
      "execution_count": null,
      "metadata": {
        "id": "UChXkrvs7OF0"
      },
      "outputs": [],
      "source": [
        "\"\"\"\n",
        "Returns one-hot-encoded feature representation of the specified word given\n",
        "a dictionary mapping words to their one-hot-encoded index.\n",
        "\n",
        "Arguments:\n",
        "    word_to_index: Dictionary mapping words to their corresponding index\n",
        "                    in a one-hot-encoded representation of our corpus.\n",
        "\n",
        "    word:          Word whose feature representation we wish to compute.\n",
        "\n",
        "Returns:\n",
        "    feature_representation:     Feature representation of the passed-in word.\n",
        "\"\"\"\n",
        "def get_word_repr(word_to_index, word):\n",
        "    unique_words = word_to_index.keys()\n",
        "    # Return a vector that's zero everywhere besides the index corresponding to <word>\n",
        "    feature_representation = np.zeros(len(unique_words))\n",
        "    feature_representation[word_to_index[word]] = 1\n",
        "    return feature_representation    \n",
        "\n",
        "\n",
        "\"\"\"\n",
        "Generates training data for Skipgram model.\n",
        "\n",
        "Arguments:\n",
        "    word_list:     Sequential list of words (strings).\n",
        "    word_to_index: Dictionary mapping words to their corresponding index\n",
        "                    in a one-hot-encoded representation of our corpus.\n",
        "\n",
        "    window_size:   Size of Skipgram window. Defaults to 2 \n",
        "                    (use the default value when running your code).\n",
        "\n",
        "Returns:\n",
        "    (trainX, trainY):     A pair of matrices (trainX, trainY) containing training \n",
        "                          points (one-hot-encoded vectors) and their corresponding output_word\n",
        "                          (also one-hot-encoded vectors)\n",
        "\n",
        "\"\"\"\n",
        "def generate_traindata(word_list, word_to_index, window_size=4):\n",
        "    \n",
        "  trainX = []\n",
        "  trainY = []\n",
        "\n",
        "  N = len(word_list)\n",
        "  for i in range(N):\n",
        "    word_i = get_word_repr(word_to_index, word_list[i])\n",
        "    lower_s, upper_s = max(i - window_size, 0), min(i + 1 + window_size, N)\n",
        "    for j in range(lower_s, upper_s):\n",
        "      if (i == j):\n",
        "        continue\n",
        "      word_j = get_word_repr(word_to_index, word_list[j])\n",
        "      trainX.append(word_i)\n",
        "      trainY.append(word_j)\n",
        "  \n",
        "  return np.array(trainX), np.array(trainY)"
      ]
    },
    {
      "cell_type": "code",
      "execution_count": null,
      "metadata": {
        "id": "OoaUtBqd7V-A"
      },
      "outputs": [],
      "source": [
        "\"\"\"\n",
        "Find the most similar pairs from the word embeddings computed from\n",
        "a body of text\n",
        "\n",
        "Arguments:\n",
        "    filename:           Text file to read and train embeddings from\n",
        "    num_latent_factors: The number of latent factors / the size of the embedding\n",
        "\"\"\"\n",
        "def find_most_similar_pairs(filename, num_latent_factors):\n",
        "    # Load in a list of words from the specified file; remove non-alphanumeric characters\n",
        "    # and make all chars lowercase.\n",
        "    sample_text = load_word_list(filename)\n",
        "\n",
        "    # Create word dictionary\n",
        "    word_to_index = generate_onehot_dict(sample_text)\n",
        "    print(\"Textfile contains %s unique words\"%len(word_to_index))\n",
        "    # Create training data\n",
        "    trainX, trainY = generate_traindata(sample_text, word_to_index)\n",
        "    trainXY = np.array([trainX, trainY])\n",
        "\n",
        "    ## Creates and trains model in Pytorch\n",
        "\n",
        "    # vocab_size = number of unique words in our text file. Will be useful \n",
        "    # when adding layers to your neural network\n",
        "    vocab_size = len(word_to_index)\n",
        "\n",
        "    epochs = 30\n",
        "    learning_rate = 5e-3\n",
        "    batch = 64\n",
        "\n",
        "    model = nn.Sequential(\n",
        "        nn.Linear(vocab_size, 10),\n",
        "        nn.Linear(10, vocab_size),\n",
        "        nn.Softmax()\n",
        "    )\n",
        "\n",
        "    optimizer = torch.optim.Adam(model.parameters(), lr=learning_rate)\n",
        "    loss_fn = nn.CrossEntropyLoss()\n",
        "    train_data = torch.from_numpy(trainXY).type(torch.FloatTensor)\n",
        "    train_loader = torch.utils.data.DataLoader(train_data, batch_size=batch, shuffle=True)\n",
        "\n",
        "    model.train()\n",
        "\n",
        "    for epoch in range(epochs):\n",
        "      for batch_idx, (data, target) in enumerate(train_loader):\n",
        "          # Erase accumulated gradients\n",
        "          optimizer.zero_grad()\n",
        "\n",
        "          # Forward pass\n",
        "          output = model(data)\n",
        "\n",
        "          # Calculate loss\n",
        "          loss = loss_fn(output, target)\n",
        "\n",
        "          # Backward pass\n",
        "          loss.backward()\n",
        "          \n",
        "          # Weight update\n",
        "          optimizer.step()\n",
        "\n",
        "      # Tracks loss each epoch\n",
        "      print('Train Epoch: %d  Loss: %.4f' % (epoch + 1,  loss.item()))\n",
        "\n",
        "    model.eval()\n",
        "\n",
        "    # Prints model parameters\n",
        "    print()\n",
        "    for param in model.named_parameters():\n",
        "      param_name = param[0]\n",
        "      param_shape = param[1].shape\n",
        "      print('Parameter \"' + param_name + '\" has shape', param_shape) \n",
        "  \n",
        "    ## Extracts weights for hidden layer\n",
        "    \n",
        "    # set weights variable below\n",
        "    weights = model.get_parameter('1.weight').detach().numpy()\n",
        "    \n",
        "    # Find and print most similar pairs\n",
        "    print()\n",
        "    similar_pairs = most_similar_pairs(weights, word_to_index)\n",
        "    for pair in similar_pairs[:30]:\n",
        "        print(pair)\n",
        "\n",
        "    # "
      ]
    },
    {
      "cell_type": "markdown",
      "metadata": {
        "id": "xFBMhtCJ8LyA"
      },
      "source": [
        "### Problem E-H:\n",
        "Run your model on drseuss.txt and answer questions from E through H."
      ]
    },
    {
      "cell_type": "code",
      "execution_count": null,
      "metadata": {
        "id": "bR7ZicNJ6tyN",
        "colab": {
          "base_uri": "https://localhost:8080/"
        },
        "outputId": "b4640cef-1d27-49ae-b80a-81eec4a8ed90"
      },
      "outputs": [
        {
          "output_type": "stream",
          "name": "stdout",
          "text": [
            "Textfile contains 308 unique words\n"
          ]
        },
        {
          "output_type": "stream",
          "name": "stderr",
          "text": [
            "/usr/local/lib/python3.8/dist-packages/torch/nn/modules/container.py:204: UserWarning: Implicit dimension choice for softmax has been deprecated. Change the call to include dim=X as an argument.\n",
            "  input = module(input)\n"
          ]
        },
        {
          "output_type": "stream",
          "name": "stdout",
          "text": [
            "Train Epoch: 1  Loss: 5.7301\n",
            "Train Epoch: 2  Loss: 5.7301\n",
            "Train Epoch: 3  Loss: 5.7301\n",
            "Train Epoch: 4  Loss: 5.7300\n",
            "Train Epoch: 5  Loss: 5.7300\n",
            "Train Epoch: 6  Loss: 5.7300\n",
            "Train Epoch: 7  Loss: 5.7299\n",
            "Train Epoch: 8  Loss: 5.7299\n",
            "Train Epoch: 9  Loss: 5.7299\n",
            "Train Epoch: 10  Loss: 5.7298\n",
            "Train Epoch: 11  Loss: 5.7298\n",
            "Train Epoch: 12  Loss: 5.7297\n",
            "Train Epoch: 13  Loss: 5.7297\n",
            "Train Epoch: 14  Loss: 5.7296\n",
            "Train Epoch: 15  Loss: 5.7295\n",
            "Train Epoch: 16  Loss: 5.7295\n",
            "Train Epoch: 17  Loss: 5.7294\n",
            "Train Epoch: 18  Loss: 5.7293\n",
            "Train Epoch: 19  Loss: 5.7292\n",
            "Train Epoch: 20  Loss: 5.7291\n",
            "Train Epoch: 21  Loss: 5.7290\n",
            "Train Epoch: 22  Loss: 5.7289\n",
            "Train Epoch: 23  Loss: 5.7287\n",
            "Train Epoch: 24  Loss: 5.7286\n",
            "Train Epoch: 25  Loss: 5.7284\n",
            "Train Epoch: 26  Loss: 5.7283\n",
            "Train Epoch: 27  Loss: 5.7281\n",
            "Train Epoch: 28  Loss: 5.7279\n",
            "Train Epoch: 29  Loss: 5.7277\n",
            "Train Epoch: 30  Loss: 5.7274\n",
            "\n",
            "Parameter \"0.weight\" has shape torch.Size([10, 308])\n",
            "Parameter \"0.bias\" has shape torch.Size([10])\n",
            "Parameter \"1.weight\" has shape torch.Size([308, 10])\n",
            "Parameter \"1.bias\" has shape torch.Size([308])\n",
            "\n",
            "Pair(pet, wave), Similarity: 0.97445124\n",
            "Pair(wave, pet), Similarity: 0.97445124\n",
            "Pair(bike, should), Similarity: 0.966437\n",
            "Pair(should, bike), Similarity: 0.966437\n",
            "Pair(bump, did), Similarity: 0.96465135\n",
            "Pair(did, bump), Similarity: 0.96465135\n",
            "Pair(glad, cook), Similarity: 0.95977306\n",
            "Pair(cook, glad), Similarity: 0.95977306\n",
            "Pair(name, wave), Similarity: 0.9531311\n",
            "Pair(had, zans), Similarity: 0.9505988\n",
            "Pair(zans, had), Similarity: 0.9505988\n",
            "Pair(only, bump), Similarity: 0.94843185\n",
            "Pair(four, three), Similarity: 0.9446459\n",
            "Pair(three, four), Similarity: 0.9446459\n",
            "Pair(grow, glad), Similarity: 0.93765974\n",
            "Pair(am, cold), Similarity: 0.93736213\n",
            "Pair(cold, am), Similarity: 0.93736213\n",
            "Pair(bird, fly), Similarity: 0.9322248\n",
            "Pair(fly, bird), Similarity: 0.9322248\n",
            "Pair(star, long), Similarity: 0.93215\n",
            "Pair(long, star), Similarity: 0.93215\n",
            "Pair(sleep, brush), Similarity: 0.92933524\n",
            "Pair(brush, sleep), Similarity: 0.92933524\n",
            "Pair(thin, cant), Similarity: 0.9292662\n",
            "Pair(cant, thin), Similarity: 0.9292662\n",
            "Pair(hold, let), Similarity: 0.9288228\n",
            "Pair(let, hold), Similarity: 0.9288228\n",
            "Pair(out, sheep), Similarity: 0.92821527\n",
            "Pair(sheep, out), Similarity: 0.92821527\n",
            "Pair(off, top), Similarity: 0.9280913\n"
          ]
        }
      ],
      "source": [
        "find_most_similar_pairs('dr_seuss.txt', 10)"
      ]
    },
    {
      "cell_type": "code",
      "execution_count": null,
      "metadata": {
        "id": "1OypGn399owV"
      },
      "outputs": [],
      "source": []
    }
  ],
  "metadata": {
    "colab": {
      "provenance": [],
      "include_colab_link": true
    },
    "kernelspec": {
      "display_name": "Python 3",
      "name": "python3"
    },
    "language_info": {
      "name": "python"
    }
  },
  "nbformat": 4,
  "nbformat_minor": 0
}